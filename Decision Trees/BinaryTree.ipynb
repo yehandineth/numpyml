{
 "cells": [
  {
   "cell_type": "code",
   "execution_count": 4,
   "metadata": {},
   "outputs": [],
   "source": [
    "import numpy as np"
   ]
  },
  {
   "cell_type": "code",
   "execution_count": 370,
   "metadata": {},
   "outputs": [],
   "source": [
    "class BinaryTree():\n",
    "\n",
    "    class Root():\n",
    "        def __init__(self,feature):\n",
    "            self.depth = 0\n",
    "            self.positive = None\n",
    "            self.negative = None\n",
    "            self.feature = feature\n",
    "            self.nochild = False\n",
    "\n",
    "\n",
    "    class Decision(Root):\n",
    "        def __init__(self, feature=0, parent=None, depth=0):\n",
    "            self.parent = parent\n",
    "            self.depth = depth\n",
    "            super().__init__(feature=feature)\n",
    "\n",
    "    class Leaf():\n",
    "        def __init__(self, parent, confidence=1, depth=0):\n",
    "            self.parent = parent\n",
    "            self.confidence = confidence\n",
    "            self.depth = depth\n",
    "\n",
    "    def __init__(self, threshold=1, depth=3):\n",
    "        self.threshold = np.clip(threshold, 0, 1)\n",
    "        self.max_depth=np.maximum(1,depth)\n",
    "        self.root  = None\n",
    "        self.current_feature = None\n",
    "\n",
    "    def H(self, x):\n",
    "        if not x:\n",
    "            return 0\n",
    "        if x==1:\n",
    "            return 0\n",
    "        return -x*np.log2(x) - (1-x) * np.log2(1-x)\n",
    "    \n",
    "    def split(self, data, feature):\n",
    "        '''\n",
    "        Returns\n",
    "        ======================\n",
    "        feature=True, feature=False\n",
    "        '''\n",
    "        return data[...,data[feature]==1], data[...,data[feature]==0]\n",
    "\n",
    "    def p_w(self, positive, negative):\n",
    "        '''\n",
    "        Returns\n",
    "        ======================\n",
    "        positive weight, positive p, negative weight, negative p\n",
    "        '''\n",
    "        tot = positive.shape[-1] + negative.shape[-1]\n",
    "        return positive.shape[-1]/tot , positive[-1].mean(), negative.shape[-1]/tot, negative[-1].mean()\n",
    "    \n",
    "    def information_gain(self, data, feature):\n",
    "        '''\n",
    "        Return \n",
    "        =================\n",
    "        weight_1, prob_1, wight_0, prob_0\n",
    "        '''\n",
    "        w1, p1, w0, p0 = self.p_w(*self.split(data,feature))\n",
    "        return self.H(np.mean(data[-1])) - (w1 * self.H(p1) + w0 * self.H(p0))\n",
    "\n",
    "    def get_best(self, data):\n",
    "        '''\n",
    "        Get the best feature to split on.\n",
    "        '''\n",
    "        best = 0\n",
    "        max = 0\n",
    "        for i in range(data.shape[0]-1):\n",
    "            x = self.information_gain(data,i)\n",
    "            if best < x:\n",
    "                best = x\n",
    "                max = i\n",
    "        return max\n",
    "\n",
    "\n",
    "    def train(self, data, parent = Root(None), pos=None):\n",
    "        \n",
    "        \n",
    "        message = None\n",
    "        p=0\n",
    "        print(data.shape)\n",
    "        if data.shape[0] == 1 and data.shape[1] == 0:\n",
    "            message = 'No more Features'\n",
    "        else:\n",
    "            prob = data[-1].mean()\n",
    "            p = self.H(prob)        \n",
    "            print('Current Node Confidence', p)\n",
    "        if p >= self.threshold :\n",
    "            if pos is None:\n",
    "                self.root = self.Root(None)\n",
    "                self.root.nochild = True\n",
    "                print('No Children')\n",
    "                return 0\n",
    "            message = 'Threshold met at '\n",
    "        elif parent.depth == self.max_depth:\n",
    "            message = 'Deepest root met'\n",
    "        \n",
    "        if message is not None:\n",
    "            if pos:\n",
    "                self.current_feature.positive = self.Leaf(self.current_feature, confidence=p, depth=parent.depth+1)\n",
    "            else:\n",
    "                self.current_feature.negative = self.Leaf(self.current_feature, confidence=p, depth=parent.depth+1)\n",
    "            print(message, pos,'Depth :', parent.depth+1)\n",
    "            return 0\n",
    "\n",
    "        current_feature = self.get_best(data)\n",
    "        if self.root is None:\n",
    "            self.root = self.Root(feature=current_feature)\n",
    "            self.current_feature = self.root\n",
    "        else:\n",
    "            self.current_feature = self.Decision(current_feature, parent=parent, depth=parent.depth+1)\n",
    "            if pos:\n",
    "                parent.positive = self.current_feature\n",
    "            else:\n",
    "                parent.negative = self.current_feature\n",
    "        \n",
    "\n",
    "        positive, negative = self.split(data,current_feature)\n",
    "\n",
    "\n",
    "        print(f' Positive:\\n{positive}', f' Negative:\\n{negative}', f'Current Depth = {self.current_feature.depth}', f'Feature : {self.current_feature.feature}', sep='\\n')\n",
    "\n",
    "\n",
    "        positive = np.delete(positive,np.s_[current_feature],0)\n",
    "        negative = np.delete(negative,np.s_[current_feature],0)\n",
    "\n",
    "        self.train( positive, parent=self.current_feature, pos=True)\n",
    "        self.train( negative, parent=self.current_feature, pos=False)\n",
    "\n",
    "    def predict(self, data, node=None):\n",
    "\n",
    "         \n",
    "        if node is None:\n",
    "            data = np.concatenate([data, np.arange(data.shape[-1]).reshape(1,-1)], axis=0)\n",
    "            node = self.root\n",
    "        if type(node) == self.Leaf:\n",
    "            print('End leaf met at depth', node.depth, data)\n",
    "            return data\n",
    "        elif (type(node) == self.Root and node.nochild):\n",
    "            return data[:-1]\n",
    "        positive, negative = self.split(data, node.feature)\n",
    "        print(positive, negative)\n",
    "        pos = []\n",
    "        neg = []\n",
    "        pos.append(self.predict(positive, node.positive))\n",
    "        neg.append(self.predict(negative, node.negative))\n",
    "        return pos,neg\n"
   ]
  },
  {
   "cell_type": "code",
   "execution_count": 371,
   "metadata": {},
   "outputs": [
    {
     "data": {
      "text/plain": [
       "array([[0, 0, 0, 0, 0, 1, 1, 1, 1, 1],\n",
       "       [1, 1, 1, 1, 1, 0, 0, 0, 0, 0]])"
      ]
     },
     "execution_count": 371,
     "metadata": {},
     "output_type": "execute_result"
    }
   ],
   "source": [
    "features = np.random.randint(size =(3,10), low=0, high=2)\n",
    "labels = np.array([1,1,1,1,1,0,0,0,0,0])\n",
    "features = np.array([[0,0,0,0,0,1,1,1,1,1]])\n",
    "data = np.concatenate([features, labels.reshape(1,-1)] , axis=0)\n",
    "data"
   ]
  },
  {
   "cell_type": "code",
   "execution_count": 373,
   "metadata": {},
   "outputs": [
    {
     "name": "stdout",
     "output_type": "stream",
     "text": [
      "(2, 10)\n",
      "Current Node Confidence 1.0\n",
      "No Children\n"
     ]
    },
    {
     "data": {
      "text/plain": [
       "0"
      ]
     },
     "execution_count": 373,
     "metadata": {},
     "output_type": "execute_result"
    }
   ],
   "source": [
    "tree1 = BinaryTree()\n",
    "tree1.train(data)"
   ]
  },
  {
   "cell_type": "code",
   "execution_count": 367,
   "metadata": {},
   "outputs": [
    {
     "name": "stdout",
     "output_type": "stream",
     "text": [
      "[[1 1 1 1 1 1]\n",
      " [0 1 2 3 5 6]] [[0]\n",
      " [4]]\n",
      "End leaf met at depth 1 [[1 1 1 1 1 1]\n",
      " [0 1 2 3 5 6]]\n",
      "End leaf met at depth 1 [[0]\n",
      " [4]]\n"
     ]
    },
    {
     "data": {
      "text/plain": [
       "([array([[1, 1, 1, 1, 1, 1],\n",
       "         [0, 1, 2, 3, 5, 6]])],\n",
       " [array([[0],\n",
       "         [4]])])"
      ]
     },
     "execution_count": 367,
     "metadata": {},
     "output_type": "execute_result"
    }
   ],
   "source": [
    "tree1.predict(np.array([[1,1,1,1,0,1,1]]))"
   ]
  },
  {
   "cell_type": "code",
   "execution_count": 156,
   "metadata": {},
   "outputs": [],
   "source": [
    "c1, c2 = list(tree1.root.__dict__.values())[1:-1]"
   ]
  },
  {
   "cell_type": "code",
   "execution_count": 161,
   "metadata": {},
   "outputs": [
    {
     "data": {
      "text/plain": [
       "1.0"
      ]
     },
     "execution_count": 161,
     "metadata": {},
     "output_type": "execute_result"
    }
   ],
   "source": [
    "c1.confidence"
   ]
  },
  {
   "cell_type": "code",
   "execution_count": 162,
   "metadata": {},
   "outputs": [
    {
     "data": {
      "text/plain": [
       "0.0"
      ]
     },
     "execution_count": 162,
     "metadata": {},
     "output_type": "execute_result"
    }
   ],
   "source": [
    "c2.confidence"
   ]
  },
  {
   "cell_type": "code",
   "execution_count": null,
   "metadata": {},
   "outputs": [],
   "source": []
  }
 ],
 "metadata": {
  "kernelspec": {
   "display_name": "base",
   "language": "python",
   "name": "python3"
  },
  "language_info": {
   "codemirror_mode": {
    "name": "ipython",
    "version": 3
   },
   "file_extension": ".py",
   "mimetype": "text/x-python",
   "name": "python",
   "nbconvert_exporter": "python",
   "pygments_lexer": "ipython3",
   "version": "3.12.3"
  }
 },
 "nbformat": 4,
 "nbformat_minor": 2
}
