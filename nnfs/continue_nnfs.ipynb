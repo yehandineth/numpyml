{
 "cells": [
  {
   "cell_type": "markdown",
   "metadata": {
    "vscode": {
     "languageId": "plaintext"
    }
   },
   "source": [
    "# A Real Dataset"
   ]
  },
  {
   "cell_type": "code",
   "execution_count": 5,
   "metadata": {},
   "outputs": [],
   "source": [
    "import os\n",
    "import numpy as np\n",
    "from pathlib import Path\n",
    "from config import *"
   ]
  },
  {
   "cell_type": "code",
   "execution_count": null,
   "metadata": {},
   "outputs": [
    {
     "name": "stdout",
     "output_type": "stream",
     "text": [
      "Downloading as c:\\Users\\ydine\\Documents\\numpyml\\nnfs\\datasets\\fashion_mnist_images.zip from https://nnfs.io/datasets/fashion_mnist_images.zip....\n",
      "Successfully Downloaded\n",
      "Unzipping fashion_mnist_images.zip....\n",
      "Successfully Unzipped\n",
      "Deleting zip file....\n"
     ]
    }
   ],
   "source": [
    "# Download the data \n",
    "if not mnist_name in os.listdir(DATASETS_DIR):\n",
    "\n",
    "    import urllib\n",
    "    import urllib.request\n",
    "\n",
    "    file_name = f'{DATASETS_DIR.joinpath(f\"{mnist_name}.zip\")}'\n",
    "    # Dowloading\n",
    "    print(f'Downloading as {DATASETS_DIR.joinpath(mnist_name)}.zip from {mnist_url}....')\n",
    "    urllib.request.urlretrieve(mnist_url, file_name, )\n",
    "    print('Successfully Downloaded')\n",
    "\n",
    "    #Unzip and delete zip file\n",
    "    from zipfile import ZipFile\n",
    "\n",
    "    print(f'Unzipping {mnist_name}.zip....')\n",
    "    with ZipFile(file_name) as files:\n",
    "        files.extractall(DATASETS_DIR.joinpath(mnist_name))\n",
    "    print('Successfully Unzipped')\n",
    "\n",
    "    print('Deleting zip file....')\n",
    "    os.remove(file_name)\n",
    "    print('Done')\n",
    "else:\n",
    "    print('Folder already in', DATASETS_DIR)"
   ]
  },
  {
   "cell_type": "code",
   "execution_count": null,
   "metadata": {},
   "outputs": [],
   "source": []
  }
 ],
 "metadata": {
  "kernelspec": {
   "display_name": "tfbootcamp2",
   "language": "python",
   "name": "python3"
  },
  "language_info": {
   "codemirror_mode": {
    "name": "ipython",
    "version": 3
   },
   "file_extension": ".py",
   "mimetype": "text/x-python",
   "name": "python",
   "nbconvert_exporter": "python",
   "pygments_lexer": "ipython3",
   "version": "3.9.18"
  }
 },
 "nbformat": 4,
 "nbformat_minor": 2
}
