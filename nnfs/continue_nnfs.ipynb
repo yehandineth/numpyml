{
 "cells": [
  {
   "cell_type": "markdown",
   "metadata": {
    "vscode": {
     "languageId": "plaintext"
    }
   },
   "source": [
    "# A Real Dataset"
   ]
  },
  {
   "cell_type": "markdown",
   "metadata": {},
   "source": [
    "# Getting the dataset ready"
   ]
  },
  {
   "cell_type": "markdown",
   "metadata": {},
   "source": [
    "## Downloading"
   ]
  },
  {
   "cell_type": "code",
   "execution_count": 1,
   "metadata": {},
   "outputs": [],
   "source": [
    "import os\n",
    "import numpy as np\n",
    "from pathlib import Path\n",
    "import matplotlib.pyplot as plt \n",
    "import cv2\n",
    "from config import *"
   ]
  },
  {
   "cell_type": "code",
   "execution_count": 2,
   "metadata": {},
   "outputs": [
    {
     "name": "stdout",
     "output_type": "stream",
     "text": [
      "Folder already in c:\\Users\\ydine\\Documents\\numpyml\\nnfs\\datasets\n"
     ]
    }
   ],
   "source": [
    "# Download the data \n",
    "if not mnist_name in os.listdir(DATASETS_DIR):\n",
    "\n",
    "    import urllib\n",
    "    import urllib.request\n",
    "\n",
    "    file_name = f'{DATASETS_DIR.joinpath(f\"{mnist_name}.zip\")}'\n",
    "    \n",
    "    # Dowloading\n",
    "    print(f'Downloading as {DATASETS_DIR.joinpath(mnist_name)}.zip from {mnist_url}....')\n",
    "    urllib.request.urlretrieve(mnist_url, file_name, )\n",
    "    print('Successfully Downloaded')\n",
    "\n",
    "    #Unzip zip file\n",
    "    from zipfile import ZipFile\n",
    "\n",
    "    print(f'Unzipping {mnist_name}.zip....')\n",
    "    with ZipFile(file_name) as files:\n",
    "        files.extractall(DATASETS_DIR.joinpath(mnist_name))\n",
    "    print('Successfully Unzipped')\n",
    "\n",
    "    # delete zip file\n",
    "    print('Deleting zip file....')\n",
    "    os.remove(file_name)\n",
    "    print('Done')\n",
    "else:\n",
    "    print('Folder already in', DATASETS_DIR)"
   ]
  },
  {
   "cell_type": "markdown",
   "metadata": {},
   "source": [
    "## Loading the data to memory"
   ]
  },
  {
   "cell_type": "code",
   "execution_count": 3,
   "metadata": {},
   "outputs": [],
   "source": [
    "data = {}\n",
    "\n",
    "for st in os.listdir(DATASETS_DIR.joinpath(mnist_name))[1:]:\n",
    "    data[st] = {\n",
    "        'labels' : [],\n",
    "        'images' : []\n",
    "    }\n",
    "    for label in os.listdir(DATASETS_DIR.joinpath(mnist_name).joinpath(st)):\n",
    "        for image in os.listdir(DATASETS_DIR.joinpath(mnist_name).joinpath(st).joinpath(label)):\n",
    "            data[st]['labels'].append(label)\n",
    "            data[st]['images'].append(cv2.imread(\n",
    "                DATASETS_DIR.joinpath(mnist_name).joinpath(st).joinpath(label).joinpath(image),\n",
    "                cv2.IMREAD_UNCHANGED\n",
    "                ))\n",
    "    data[st]['labels'] = np.array(data[st]['labels'])\n",
    "    data[st]['images'] = np.array(data[st]['images']).astype(np.uint8)"
   ]
  },
  {
   "cell_type": "code",
   "execution_count": 4,
   "metadata": {},
   "outputs": [
    {
     "data": {
      "text/plain": [
       "[[1.0, 1.0, 1.0], [1.0, 1.0, 1.0]]"
      ]
     },
     "execution_count": 4,
     "metadata": {},
     "output_type": "execute_result"
    }
   ],
   "source": [
    "x = np.ones(shape=(2,3))\n",
    "x.tolist()"
   ]
  },
  {
   "cell_type": "code",
   "execution_count": 5,
   "metadata": {},
   "outputs": [
    {
     "data": {
      "image/png": "[encoded data removed]",
      "text/plain": [
       "<Figure size 640x480 with 1 Axes>"
      ]
     },
     "metadata": {},
     "output_type": "display_data"
    }
   ],
   "source": [
    "img = np.random.randint(0,len(data['train']['labels']))\n",
    "\n",
    "plt.figure()\n",
    "plt.title(mnist_labels[int(data['train']['labels'][img])])\n",
    "plt.imshow(data['train']['images'][img], cmap=plt.cm.gray)\n",
    "plt.axis(False)\n",
    "plt.show()"
   ]
  },
  {
   "cell_type": "markdown",
   "metadata": {},
   "source": [
    "## Splitting the data"
   ]
  },
  {
   "cell_type": "code",
   "execution_count": 6,
   "metadata": {},
   "outputs": [],
   "source": [
    "X_train, y_train, X_test, y_test = data['train']['images'],data['train']['labels'],data['test']['images'],data['test']['labels']"
   ]
  },
  {
   "cell_type": "code",
   "execution_count": 7,
   "metadata": {},
   "outputs": [
    {
     "data": {
      "text/plain": [
       "((60000, 28, 28), (60000,), (10000, 28, 28), (10000,))"
      ]
     },
     "execution_count": 7,
     "metadata": {},
     "output_type": "execute_result"
    }
   ],
   "source": [
    "X_train.shape, y_train.shape, X_test.shape, y_test.shape"
   ]
  },
  {
   "cell_type": "markdown",
   "metadata": {},
   "source": [
    "## Rescaling the data"
   ]
  },
  {
   "cell_type": "code",
   "execution_count": 8,
   "metadata": {},
   "outputs": [],
   "source": [
    "X_train = (X_train/127.5) - 1\n",
    "X_test = (X_test/127.5) - 1"
   ]
  },
  {
   "cell_type": "code",
   "execution_count": 9,
   "metadata": {},
   "outputs": [
    {
     "data": {
      "text/plain": [
       "(-1.0, 1.0)"
      ]
     },
     "execution_count": 9,
     "metadata": {},
     "output_type": "execute_result"
    }
   ],
   "source": [
    "X_train.min(), X_train.max()"
   ]
  },
  {
   "cell_type": "markdown",
   "metadata": {},
   "source": [
    "## Flattening the data to fit out Dense network"
   ]
  },
  {
   "cell_type": "code",
   "execution_count": 10,
   "metadata": {},
   "outputs": [],
   "source": [
    "X_train = X_train.reshape(60000,-1)\n",
    "X_test = X_test.reshape(10000,-1)"
   ]
  },
  {
   "cell_type": "code",
   "execution_count": 11,
   "metadata": {},
   "outputs": [
    {
     "data": {
      "image/png": "[encoded data removed]",
      "text/plain": [
       "<Figure size 640x480 with 1 Axes>"
      ]
     },
     "metadata": {},
     "output_type": "display_data"
    }
   ],
   "source": [
    "img = np.random.randint(0,60000)\n",
    "\n",
    "\n",
    "plt.figure()\n",
    "plt.title(mnist_labels[int(y_train[img])])\n",
    "plt.imshow(X_train[img].reshape(28,28), cmap=plt.cm.gray)\n",
    "plt.axis(False)\n",
    "plt.show()"
   ]
  },
  {
   "cell_type": "markdown",
   "metadata": {},
   "source": [
    "## Data Shuffling"
   ]
  },
  {
   "cell_type": "code",
   "execution_count": 17,
   "metadata": {},
   "outputs": [],
   "source": [
    "keys = np.arange(X_train.shape[0])\n",
    "np.random.shuffle(keys)"
   ]
  },
  {
   "cell_type": "code",
   "execution_count": 18,
   "metadata": {},
   "outputs": [],
   "source": [
    "X_train = X_train[keys]\n",
    "y_train = y_train[keys]"
   ]
  },
  {
   "cell_type": "code",
   "execution_count": 39,
   "metadata": {},
   "outputs": [
    {
     "data": {
      "image/png": "[encoded data removed]",
      "text/plain": [
       "<Figure size 640x480 with 9 Axes>"
      ]
     },
     "metadata": {},
     "output_type": "display_data"
    }
   ],
   "source": [
    "i = np.random.randint(0,60000)\n",
    "\n",
    "fig, ax = plt.subplots(3,3)\n",
    "fig.suptitle('Items listed in sequence from random starting point', ha='center')\n",
    "for img in range(i,i+9):\n",
    "    ax[(img-i)//3,(img-i)%3].set_title(mnist_labels[int(y_train[img])])\n",
    "    ax[(img-i)//3,(img-i)%3].imshow(X_train[img].reshape(28,28), cmap=plt.cm.gray)\n",
    "    ax[(img-i)//3,(img-i)%3].axis(False)\n",
    "plt.show()"
   ]
  }
 ],
 "metadata": {
  "kernelspec": {
   "display_name": "tfbootcamp2",
   "language": "python",
   "name": "python3"
  },
  "language_info": {
   "codemirror_mode": {
    "name": "ipython",
    "version": 3
   },
   "file_extension": ".py",
   "mimetype": "text/x-python",
   "name": "python",
   "nbconvert_exporter": "python",
   "pygments_lexer": "ipython3",
   "version": "3.9.18"
  }
 },
 "nbformat": 4,
 "nbformat_minor": 2
}
