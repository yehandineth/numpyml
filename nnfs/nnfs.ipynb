{
 "cells": [
  {
   "cell_type": "code",
   "execution_count": 1,
   "metadata": {},
   "outputs": [],
   "source": [
    "import numpy as np\n",
    "import nnfs \n",
    "nnfs.init()"
   ]
  },
  {
   "cell_type": "markdown",
   "metadata": {},
   "source": [
    "# Section 1"
   ]
  },
  {
   "cell_type": "markdown",
   "metadata": {},
   "source": [
    "## Without numpy"
   ]
  },
  {
   "cell_type": "markdown",
   "metadata": {},
   "source": [
    "### A single neuron "
   ]
  },
  {
   "cell_type": "markdown",
   "metadata": {},
   "source": [
    "#### Initialize"
   ]
  },
  {
   "cell_type": "code",
   "execution_count": 2,
   "metadata": {},
   "outputs": [],
   "source": [
    "#Let's initialize for one input\n",
    "inputs = [1, 2, 3]\n",
    "weights = [0.2 ,0.8, -0.5]\n",
    "bias = 2"
   ]
  },
  {
   "cell_type": "markdown",
   "metadata": {},
   "source": [
    "#### Get the outputs\n",
    "\n",
    " - What we want is to multiply each corresponding input by each weights and then add the bias to it. Let's first do it by hand and crate a reusable function\n"
   ]
  },
  {
   "cell_type": "code",
   "execution_count": 3,
   "metadata": {},
   "outputs": [
    {
     "name": "stdout",
     "output_type": "stream",
     "text": [
      "2.3\n"
     ]
    }
   ],
   "source": [
    "output = (inputs[0] * weights[0] + \n",
    "          inputs[1] * weights[1] + \n",
    "          inputs[2] * weights[2] +\n",
    "          bias )\n",
    "print(output)"
   ]
  },
  {
   "cell_type": "code",
   "execution_count": 4,
   "metadata": {},
   "outputs": [],
   "source": [
    "#create a reusable output function \n",
    "def out(inputs, weights, bias):\n",
    "    sum = bias\n",
    "    for i in range(len(inputs)):\n",
    "        sum += weights[i] * inputs[i]\n",
    "    return sum"
   ]
  },
  {
   "cell_type": "code",
   "execution_count": 5,
   "metadata": {},
   "outputs": [
    {
     "data": {
      "text/plain": [
       "2.3000000000000003"
      ]
     },
     "execution_count": 5,
     "metadata": {},
     "output_type": "execute_result"
    }
   ],
   "source": [
    "out(inputs, weights, bias)"
   ]
  },
  {
   "cell_type": "code",
   "execution_count": 6,
   "metadata": {},
   "outputs": [
    {
     "data": {
      "text/plain": [
       "4.800000000000001"
      ]
     },
     "execution_count": 6,
     "metadata": {},
     "output_type": "execute_result"
    }
   ],
   "source": [
    "# add another input and weight and check results\n",
    "inputs.append(2.5)\n",
    "weights.append(1)\n",
    "out(inputs, weights, bias)"
   ]
  },
  {
   "cell_type": "markdown",
   "metadata": {},
   "source": [
    "### A layer of neurons"
   ]
  },
  {
   "cell_type": "markdown",
   "metadata": {},
   "source": [
    "#### Initialize"
   ]
  },
  {
   "cell_type": "code",
   "execution_count": 7,
   "metadata": {},
   "outputs": [],
   "source": [
    "#Let's add two more neurons two the currently available neuron\n",
    "weights1 = weights\n",
    "weights2 = [0.5, -0.91, 0.26, -0.5]\n",
    "weights3 = [-0.26, -0.27, 0.17, 0.87]\n",
    "\n",
    "bias1 = bias\n",
    "bias2 = 3\n",
    "bias3 = 0.5"
   ]
  },
  {
   "cell_type": "markdown",
   "metadata": {},
   "source": [
    "#### Get the outputs"
   ]
  },
  {
   "cell_type": "code",
   "execution_count": 8,
   "metadata": {},
   "outputs": [
    {
     "data": {
      "text/plain": [
       "[4.8, 1.21, 2.385]"
      ]
     },
     "execution_count": 8,
     "metadata": {},
     "output_type": "execute_result"
    }
   ],
   "source": [
    "#Let's do it by hand first\n",
    "outputs = [\n",
    "    inputs[0] * weights1[0] + inputs[1] * weights1[1] + inputs[2] * weights1[2] + inputs[3] * weights1[3] + bias1,\n",
    "    inputs[0] * weights2[0] + inputs[1] * weights2[1] + inputs[2] * weights2[2] + inputs[3] * weights2[3] + bias2,\n",
    "    inputs[0] * weights3[0] + inputs[1] * weights3[1] + inputs[2] * weights3[2] + inputs[3] * weights3[3] + bias3,\n",
    "    ]\n",
    "outputs"
   ]
  },
  {
   "cell_type": "markdown",
   "metadata": {},
   "source": [
    "#### Nesting the weights and biases\n",
    "\n",
    "As doing this by hand get's very long let's list the weights and biases together for the whole layer"
   ]
  },
  {
   "cell_type": "code",
   "execution_count": 9,
   "metadata": {},
   "outputs": [
    {
     "name": "stdout",
     "output_type": "stream",
     "text": [
      "[0.2, 0.8, -0.5, 1]\n",
      "[0.5, -0.91, 0.26, -0.5]\n",
      "[-0.26, -0.27, 0.17, 0.87]\n",
      "[2, 3, 0.5]\n"
     ]
    }
   ],
   "source": [
    "weights = [weights1,\n",
    "           weights2,\n",
    "           weights3]\n",
    "biases = [bias1, bias2, bias3]\n",
    "print(*weights, biases, sep='\\n')"
   ]
  },
  {
   "cell_type": "markdown",
   "metadata": {},
   "source": [
    "#### Creating a loop to do the whole sum in one go"
   ]
  },
  {
   "cell_type": "code",
   "execution_count": 10,
   "metadata": {},
   "outputs": [
    {
     "data": {
      "text/plain": [
       "[4.8, 1.21, 2.385]"
      ]
     },
     "execution_count": 10,
     "metadata": {},
     "output_type": "execute_result"
    }
   ],
   "source": [
    "def layer_sum(inputs, weights, biases):\n",
    "    layer_outputs = []\n",
    "\n",
    "    #Go through each neuron\n",
    "    for neuron_weights, neuron_bias in zip(weights,biases):\n",
    "        neuron_sum = 0\n",
    "\n",
    "        #go through each input and corresponding weight\n",
    "        for weight, input in zip(neuron_weights, inputs):\n",
    "            neuron_sum += weight * input\n",
    "\n",
    "        neuron_sum += neuron_bias\n",
    "        #you can replace the whole inner loop and sums with the function we created earlier `out()`\n",
    "\n",
    "        layer_outputs.append(neuron_sum)\n",
    "    \n",
    "    return layer_outputs\n",
    "\n",
    "layer_sum(inputs,weights,biases)"
   ]
  },
  {
   "cell_type": "markdown",
   "metadata": {},
   "source": [
    "## With numpy\n",
    "\n",
    "- Let's implement the above steps with numpy and see the ease of use"
   ]
  },
  {
   "cell_type": "markdown",
   "metadata": {},
   "source": [
    "### A single neuron"
   ]
  },
  {
   "cell_type": "markdown",
   "metadata": {},
   "source": [
    "#### Initialize"
   ]
  },
  {
   "cell_type": "code",
   "execution_count": 11,
   "metadata": {},
   "outputs": [],
   "source": [
    "inputs = [1.0, 2.0, 3.0, 2.5]\n",
    "weights = [0.2, 0.8, -0.5, 1.0]\n",
    "bias  = 2.0"
   ]
  },
  {
   "cell_type": "markdown",
   "metadata": {},
   "source": [
    "#### Output using `np.dot()`"
   ]
  },
  {
   "cell_type": "code",
   "execution_count": 12,
   "metadata": {},
   "outputs": [
    {
     "data": {
      "text/plain": [
       "4.799999952316284"
      ]
     },
     "execution_count": 12,
     "metadata": {},
     "output_type": "execute_result"
    }
   ],
   "source": [
    "np.dot(np.array(inputs), np.array(weights)) + np.array(bias)"
   ]
  },
  {
   "cell_type": "markdown",
   "metadata": {},
   "source": [
    "### A layer of neurons"
   ]
  },
  {
   "cell_type": "markdown",
   "metadata": {},
   "source": [
    "#### Initialize as before"
   ]
  },
  {
   "cell_type": "code",
   "execution_count": 13,
   "metadata": {},
   "outputs": [],
   "source": [
    "inputs = inputs\n",
    "weights = [[ 0.2 , 0.8 , -0.5 , 1 ],\n",
    "           [ 0.5 , -0.91 , 0.26 , -0.5 ],\n",
    "           [ -0.26 , -0.27 , 0.17 , 0.87 ]]\n",
    "biases = [2.0, 3.0, 0.5]"
   ]
  },
  {
   "cell_type": "markdown",
   "metadata": {},
   "source": [
    "#### Get the output"
   ]
  },
  {
   "cell_type": "code",
   "execution_count": 14,
   "metadata": {},
   "outputs": [
    {
     "data": {
      "text/plain": [
       "array([4.79999995, 1.21000004, 2.38499999])"
      ]
     },
     "execution_count": 14,
     "metadata": {},
     "output_type": "execute_result"
    }
   ],
   "source": [
    "layer_outputs = np.dot(np.array(weights), np.array(inputs)) + biases\n",
    "layer_outputs"
   ]
  },
  {
   "cell_type": "markdown",
   "metadata": {},
   "source": [
    "### Adding the batch dimension\n",
    "\n",
    "- Before we only looked at one sample of data but usually in any Dense layer the input samples are presented as batches for parallel processing so in this case the theorem is mostly similar but the code is slightly adjusted to fit for this need and the outputs also have a batch dimension."
   ]
  },
  {
   "cell_type": "markdown",
   "metadata": {},
   "source": [
    "#### Initialize"
   ]
  },
  {
   "cell_type": "code",
   "execution_count": 15,
   "metadata": {},
   "outputs": [],
   "source": [
    "inputs = [[ 1.0 , 2.0 , 3.0 , 2.5 ],\n",
    "[ 2.0 , 5.0 , - 1.0 , 2.0 ],\n",
    "[ - 1.5 , 2.7 , 3.3 , - 0.8 ]]\n",
    "weights = [[ 0.2 , 0.8 , - 0.5 , 1.0 ],\n",
    "[ 0.5 , - 0.91 , 0.26 , - 0.5 ],\n",
    "[ - 0.26 , - 0.27 , 0.17 , 0.87 ]]\n",
    "biases = [ 2.0 , 3.0 , 0.5 ]"
   ]
  },
  {
   "cell_type": "markdown",
   "metadata": {},
   "source": [
    "#### Get outputs"
   ]
  },
  {
   "cell_type": "code",
   "execution_count": 16,
   "metadata": {},
   "outputs": [
    {
     "data": {
      "text/plain": [
       "array([[ 4.79999995,  1.21000004,  2.38499999],\n",
       "       [ 8.9000001 , -1.80999994,  0.19999999],\n",
       "       [ 1.41000003,  1.051     ,  0.02599999]])"
      ]
     },
     "execution_count": 16,
     "metadata": {},
     "output_type": "execute_result"
    }
   ],
   "source": [
    "layer_outputs = np.dot(np.array(inputs), np.array(weights).T) + np.array(biases)\n",
    "layer_outputs"
   ]
  },
  {
   "cell_type": "markdown",
   "metadata": {},
   "source": [
    "### Adding another layer"
   ]
  },
  {
   "cell_type": "markdown",
   "metadata": {},
   "source": [
    "#### Initialize the weights and biases\n",
    "- the number of weights per neuron must match the number of outputs from the last layer"
   ]
  },
  {
   "cell_type": "code",
   "execution_count": 17,
   "metadata": {},
   "outputs": [],
   "source": [
    "weights2 = [[ 0.1 , - 0.14 , 0.5 ],\n",
    "[ - 0.5 , 0.12 , - 0.33 ],\n",
    "[ - 0.44 , 0.73 , - 0.13 ]]\n",
    "biases2 = [ - 1 , 2 , - 0.5 ]"
   ]
  },
  {
   "cell_type": "markdown",
   "metadata": {},
   "source": [
    "#### Pass the inputs through both layers"
   ]
  },
  {
   "cell_type": "code",
   "execution_count": 18,
   "metadata": {},
   "outputs": [
    {
     "data": {
      "text/plain": [
       "array([[ 0.50310004, -1.04184985, -2.03874993],\n",
       "       [ 0.24339998, -2.73320007, -5.76329994],\n",
       "       [-0.99314   ,  1.41254002, -0.35655001]])"
      ]
     },
     "execution_count": 18,
     "metadata": {},
     "output_type": "execute_result"
    }
   ],
   "source": [
    "layer1_outputs = np.dot(np.array(inputs), np.array(weights).T) + biases\n",
    "layer2_outputs = np.dot(layer1_outputs, np.array(weights2).T) + biases2\n",
    "layer2_outputs"
   ]
  },
  {
   "cell_type": "markdown",
   "metadata": {},
   "source": [
    "# Training data"
   ]
  },
  {
   "cell_type": "code",
   "execution_count": 19,
   "metadata": {},
   "outputs": [],
   "source": [
    "import nnfs\n",
    "\n",
    "nnfs.init()"
   ]
  },
  {
   "cell_type": "code",
   "execution_count": 20,
   "metadata": {},
   "outputs": [],
   "source": [
    "from nnfs.datasets import spiral_data"
   ]
  },
  {
   "cell_type": "code",
   "execution_count": 21,
   "metadata": {},
   "outputs": [],
   "source": [
    "X, y = spiral_data(samples=100, classes=3)"
   ]
  },
  {
   "cell_type": "code",
   "execution_count": 22,
   "metadata": {},
   "outputs": [
    {
     "data": {
      "text/plain": [
       "<matplotlib.collections.PathCollection at 0x1a923feceb0>"
      ]
     },
     "execution_count": 22,
     "metadata": {},
     "output_type": "execute_result"
    },
    {
     "data": {
      "image/png": "[encoded data removed]",
      "text/plain": [
       "<Figure size 640x480 with 1 Axes>"
      ]
     },
     "metadata": {},
     "output_type": "display_data"
    }
   ],
   "source": [
    "import matplotlib.pyplot as plt\n",
    "\n",
    "plt.scatter(X[:,0], X[:,1], c=y, cmap=plt.cm.brg)"
   ]
  },
  {
   "cell_type": "markdown",
   "metadata": {},
   "source": [
    "# Creating reusable `Dense_Layer` class"
   ]
  },
  {
   "cell_type": "code",
   "execution_count": 23,
   "metadata": {},
   "outputs": [],
   "source": [
    "class Dense_Layer():\n",
    "\n",
    "    def __init__(self, n_inputs, n_neurons):\n",
    "        self.weights = 0.01 * np.random.randn(n_inputs, n_neurons)#Already transposed\n",
    "        self.biases = np.zeros(shape=(1, n_neurons))\n",
    "\n",
    "    def forward(self, inputs):\n",
    "        self.output = np.dot(inputs, self.weights) + self.biases"
   ]
  },
  {
   "cell_type": "markdown",
   "metadata": {},
   "source": [
    "<a id='code_1'></a>"
   ]
  },
  {
   "cell_type": "code",
   "execution_count": 24,
   "metadata": {},
   "outputs": [
    {
     "data": {
      "image/png": "[encoded data removed]",
      "text/plain": [
       "<Figure size 640x480 with 1 Axes>"
      ]
     },
     "metadata": {},
     "output_type": "display_data"
    },
    {
     "name": "stdout",
     "output_type": "stream",
     "text": [
      "Forwarding through layer 1\n",
      "Success\n",
      "Shape of output : (300, 3)\n",
      "[[ 0.00000000e+00  0.00000000e+00  0.00000000e+00]\n",
      " [-1.11171044e-04 -5.11007493e-05 -1.12099799e-04]\n",
      " [ 2.99257295e-06 -2.69126613e-04 -1.45165104e-04]\n",
      " [ 8.95101766e-05 -4.30442247e-04 -1.68079801e-04]\n",
      " [-3.49893759e-04 -3.07208364e-04 -4.33002861e-04]]\n"
     ]
    }
   ],
   "source": [
    "# Check the outputs from this function\n",
    "X , y = spiral_data(100, 3)\n",
    "plt.scatter(X[:,0], X[:,1], c=y, cmap=plt.cm.brg)\n",
    "plt.show()\n",
    "\n",
    "layer1 = Dense_Layer(2,3)\n",
    "print('Forwarding through layer 1')\n",
    "layer1.forward(X) #X has two inputs\n",
    "print('Success')\n",
    "\n",
    "output_layer1 = layer1.output\n",
    "print('Shape of output :', output_layer1.shape)\n",
    "print(output_layer1[:5])"
   ]
  },
  {
   "cell_type": "markdown",
   "metadata": {},
   "source": [
    "# Activation Functions"
   ]
  },
  {
   "cell_type": "markdown",
   "metadata": {},
   "source": [
    "## Showing the importance of non-linear activation functions\n",
    "- to show the importance of non-linearity lets create a linear regression model using tensorflow and try to fit the sine function"
   ]
  },
  {
   "cell_type": "code",
   "execution_count": 25,
   "metadata": {},
   "outputs": [
    {
     "data": {
      "text/plain": [
       "[<matplotlib.lines.Line2D at 0x1a9240a2940>]"
      ]
     },
     "execution_count": 25,
     "metadata": {},
     "output_type": "execute_result"
    },
    {
     "data": {
      "image/png": "[encoded data removed]",
      "text/plain": [
       "<Figure size 640x480 with 1 Axes>"
      ]
     },
     "metadata": {},
     "output_type": "display_data"
    }
   ],
   "source": [
    "#Create the dataset\n",
    "\n",
    "x_sin = np.linspace(0,6.29, 10000)\n",
    "y_sin = np.sin(x_sin)\n",
    "plt.plot(x_sin, y_sin)\n"
   ]
  },
  {
   "cell_type": "code",
   "execution_count": 26,
   "metadata": {},
   "outputs": [],
   "source": [
    "# Create the model creator function \n",
    "def create_anc_compile(relu=False):\n",
    "    act = 'relu' if relu else 'linear'\n",
    "    import tensorflow as tf\n",
    "    import keras\n",
    "    model = keras.Sequential([\n",
    "        tf.keras.layers.Input(shape=(1,)),\n",
    "        tf.keras.layers.Dense(8, activation=act),\n",
    "        tf.keras.layers.Dense(8, activation=act),\n",
    "        tf.keras.layers.Dense(1, activation='linear')\n",
    "    ])\n",
    "    model.compile(optimizer=tf.keras.optimizers.Adam(learning_rate=0.001), loss='mse')\n",
    "    model.fit(x_sin, y_sin, shuffle=False, epochs=120, verbose=0)\n",
    "    preds = model.predict(x_sin)\n",
    "    plt.figure(figsize=(5,3))\n",
    "    plt.title(f'Using {act} activation')\n",
    "    plt.plot(x_sin, y_sin, c='g', label= 'truth')\n",
    "    plt.plot(x_sin, preds, c='r', label='prediction')\n",
    "    plt.legend()\n",
    "    plt.show()"
   ]
  },
  {
   "cell_type": "markdown",
   "metadata": {},
   "source": [
    "### Linear"
   ]
  },
  {
   "cell_type": "code",
   "execution_count": 27,
   "metadata": {},
   "outputs": [
    {
     "name": "stdout",
     "output_type": "stream",
     "text": [
      "313/313 [==============================] - 0s 820us/step\n"
     ]
    },
    {
     "data": {
      "image/png": "[encoded data removed]",
      "text/plain": [
       "<Figure size 500x300 with 1 Axes>"
      ]
     },
     "metadata": {},
     "output_type": "display_data"
    }
   ],
   "source": [
    "create_anc_compile()"
   ]
  },
  {
   "cell_type": "markdown",
   "metadata": {},
   "source": [
    "### Non-linear"
   ]
  },
  {
   "cell_type": "code",
   "execution_count": 28,
   "metadata": {},
   "outputs": [
    {
     "name": "stdout",
     "output_type": "stream",
     "text": [
      "313/313 [==============================] - 1s 1ms/step\n"
     ]
    },
    {
     "data": {
      "image/png": "[encoded data removed]",
      "text/plain": [
       "<Figure size 500x300 with 1 Axes>"
      ]
     },
     "metadata": {},
     "output_type": "display_data"
    }
   ],
   "source": [
    "create_anc_compile(True)\n"
   ]
  },
  {
   "cell_type": "markdown",
   "metadata": {},
   "source": [
    " ---\n",
    " > # Extremely important\n",
    " > \n",
    " > [Watch this video](https://youtu.be/gmjzbpSVY1A?list=PLQVvvaa0QuDcjD5BAw2DxE6OF2tius3V3&t=562)\n",
    " >\n",
    " ---"
   ]
  },
  {
   "cell_type": "markdown",
   "metadata": {},
   "source": [
    "## ReLU activation"
   ]
  },
  {
   "cell_type": "code",
   "execution_count": 29,
   "metadata": {},
   "outputs": [
    {
     "data": {
      "text/plain": [
       "[-10, -9, -8, -7, -6, -5, -4, -3, -2, -1, 0, 1, 2, 3, 4, 5, 6, 7, 8, 9]"
      ]
     },
     "execution_count": 29,
     "metadata": {},
     "output_type": "execute_result"
    }
   ],
   "source": [
    "inp_rel = list(range(-10,10))\n",
    "out_rel = []\n",
    "inp_rel"
   ]
  },
  {
   "cell_type": "code",
   "execution_count": 30,
   "metadata": {},
   "outputs": [
    {
     "data": {
      "text/plain": [
       "([-10, -9, -8, -7, -6, -5, -4, -3, -2, -1, 0, 1, 2, 3, 4, 5, 6, 7, 8, 9],\n",
       " [0, 0, 0, 0, 0, 0, 0, 0, 0, 0, 0, 1, 2, 3, 4, 5, 6, 7, 8, 9])"
      ]
     },
     "execution_count": 30,
     "metadata": {},
     "output_type": "execute_result"
    }
   ],
   "source": [
    "for i in inp_rel:\n",
    "    out_rel.append(max(0,i))\n",
    "inp_rel, out_rel"
   ]
  },
  {
   "cell_type": "code",
   "execution_count": 31,
   "metadata": {},
   "outputs": [
    {
     "data": {
      "text/plain": [
       "([-10, -9, -8, -7, -6, -5, -4, -3, -2, -1, 0, 1, 2, 3, 4, 5, 6, 7, 8, 9],\n",
       " array([0, 0, 0, 0, 0, 0, 0, 0, 0, 0, 0, 1, 2, 3, 4, 5, 6, 7, 8, 9]))"
      ]
     },
     "execution_count": 31,
     "metadata": {},
     "output_type": "execute_result"
    }
   ],
   "source": [
    "### We can use numpy easily\n",
    "out_rel_np = np.maximum(0,inp_rel)\n",
    "inp_rel, out_rel_np"
   ]
  },
  {
   "cell_type": "markdown",
   "metadata": {},
   "source": [
    "## Creating ReLU class"
   ]
  },
  {
   "cell_type": "code",
   "execution_count": 32,
   "metadata": {},
   "outputs": [],
   "source": [
    "class ReLU_Activation():\n",
    "\n",
    "    def forward(self, inputs):\n",
    "        self.output = np.maximum(0, inputs)"
   ]
  },
  {
   "cell_type": "markdown",
   "metadata": {},
   "source": [
    "### Using this relu class on previous outputs"
   ]
  },
  {
   "cell_type": "markdown",
   "metadata": {},
   "source": [
    "> Continuation from [code 1](#code_1)"
   ]
  },
  {
   "cell_type": "code",
   "execution_count": 33,
   "metadata": {},
   "outputs": [
    {
     "name": "stdout",
     "output_type": "stream",
     "text": [
      "Before Activation\n",
      "[[ 0.00000000e+00  0.00000000e+00  0.00000000e+00]\n",
      " [-1.11171044e-04 -5.11007493e-05 -1.12099799e-04]\n",
      " [ 2.99257295e-06 -2.69126613e-04 -1.45165104e-04]\n",
      " [ 8.95101766e-05 -4.30442247e-04 -1.68079801e-04]\n",
      " [-3.49893759e-04 -3.07208364e-04 -4.33002861e-04]]\n",
      "After activation\n",
      "[[0.000000e+00 0.000000e+00 0.000000e+00]\n",
      " [0.000000e+00 0.000000e+00 0.000000e+00]\n",
      " [2.992573e-06 0.000000e+00 0.000000e+00]\n",
      " [8.951018e-05 0.000000e+00 0.000000e+00]\n",
      " [0.000000e+00 0.000000e+00 0.000000e+00]]\n"
     ]
    }
   ],
   "source": [
    "activation_1 = ReLU_Activation()\n",
    "activation_1.forward(output_layer1)\n",
    "output_activation1 = activation_1.output\n",
    "print('Before Activation')\n",
    "print(output_layer1[:5])\n",
    "print('After activation')\n",
    "print(output_activation1[:5])\n"
   ]
  },
  {
   "cell_type": "markdown",
   "metadata": {},
   "source": [
    "## Softmax activation"
   ]
  },
  {
   "cell_type": "code",
   "execution_count": 34,
   "metadata": {},
   "outputs": [],
   "source": [
    "E = np.e\n",
    "def softmax(outputs):\n",
    "    t1 = [E ** x for x in outputs]\n",
    "    sm = sum(t1)\n",
    "    return [i/sm for i in t1]"
   ]
  },
  {
   "cell_type": "code",
   "execution_count": 35,
   "metadata": {},
   "outputs": [
    {
     "name": "stdout",
     "output_type": "stream",
     "text": [
      "[0.8952826639572619, 0.024708306782099374, 0.0800090292606387]\n",
      "0.9999999999999999\n"
     ]
    }
   ],
   "source": [
    "tmp = [ 4.8 , 1.21 , 2.385 ]\n",
    "tmp2 = softmax(tmp)\n",
    "print(tmp2)\n",
    "print(sum(tmp2))"
   ]
  },
  {
   "cell_type": "code",
   "execution_count": 36,
   "metadata": {},
   "outputs": [
    {
     "data": {
      "text/plain": [
       "array([[8.95282664e-01, 2.47083068e-02, 8.00090293e-02],\n",
       "       [9.99811129e-01, 2.23163963e-05, 1.66554348e-04],\n",
       "       [5.13097164e-01, 3.58333899e-01, 1.28568936e-01]])"
      ]
     },
     "execution_count": 36,
     "metadata": {},
     "output_type": "execute_result"
    }
   ],
   "source": [
    "# Using numpy\n",
    "tmp = np.array([[ 4.8 , 1.21 , 2.385 ],\n",
    "[ 8.9 , - 1.81 , 0.2 ],\n",
    "[ 1.41 , 1.051 , 0.026 ]])\n",
    "np.exp(tmp)/np.sum(np.exp(tmp), axis=-1, keepdims=True)"
   ]
  },
  {
   "cell_type": "markdown",
   "metadata": {},
   "source": [
    "## Creating Softmax class"
   ]
  },
  {
   "cell_type": "code",
   "execution_count": 37,
   "metadata": {},
   "outputs": [],
   "source": [
    "class Softmax_Activation():\n",
    "\n",
    "    def forward(self, inputs):\n",
    "        exps = np.exp(inputs-np.max(inputs, axis=-1, keepdims=True))\n",
    "        self.output = exps/ np.sum(exps, axis=-1, keepdims=True)"
   ]
  },
  {
   "cell_type": "markdown",
   "metadata": {},
   "source": [
    "# Using all we built together\n",
    "<a id='code_2'></a>"
   ]
  },
  {
   "cell_type": "markdown",
   "metadata": {},
   "source": [
    "### Data"
   ]
  },
  {
   "cell_type": "markdown",
   "metadata": {},
   "source": [
    "#### Create the data"
   ]
  },
  {
   "cell_type": "code",
   "execution_count": 38,
   "metadata": {},
   "outputs": [],
   "source": [
    "# Create the data\n",
    "X,y  = spiral_data(samples=100, classes=3)"
   ]
  },
  {
   "cell_type": "markdown",
   "metadata": {},
   "source": [
    "#### Visualize the data"
   ]
  },
  {
   "cell_type": "code",
   "execution_count": 39,
   "metadata": {},
   "outputs": [
    {
     "data": {
      "image/png": "[encoded data removed]",
      "text/plain": [
       "<Figure size 400x400 with 1 Axes>"
      ]
     },
     "metadata": {},
     "output_type": "display_data"
    }
   ],
   "source": [
    "plt.figure(figsize=(4,4))\n",
    "plt.scatter(X[:,0], X[:,1], c=y, cmap=plt.cm.gist_rainbow)\n",
    "plt.xticks([])\n",
    "plt.yticks([])\n",
    "plt.show()"
   ]
  },
  {
   "cell_type": "markdown",
   "metadata": {},
   "source": [
    "### Modelling"
   ]
  },
  {
   "cell_type": "markdown",
   "metadata": {},
   "source": [
    "#### Create the model"
   ]
  },
  {
   "cell_type": "code",
   "execution_count": 40,
   "metadata": {},
   "outputs": [],
   "source": [
    "#layer 1\n",
    "dense_1 = Dense_Layer(2, 3)\n",
    "\n",
    "#activation 1\n",
    "activation_1 = ReLU_Activation()\n",
    "\n",
    "#layer 2 \n",
    "dense_2 = Dense_Layer(n_inputs=3, n_neurons=3)\n",
    "\n",
    "#activation 2 \n",
    "activation_2 = Softmax_Activation()"
   ]
  },
  {
   "cell_type": "markdown",
   "metadata": {},
   "source": [
    "#### Forward pass through the model"
   ]
  },
  {
   "cell_type": "code",
   "execution_count": 41,
   "metadata": {},
   "outputs": [],
   "source": [
    "dense_1.forward(X)\n",
    "layer_1_outputs = dense_1.output\n",
    "activation_1.forward(layer_1_outputs)\n",
    "activation_1_outputs = activation_1.output\n",
    "dense_2.forward(activation_1_outputs)\n",
    "layer_2_outputs = dense_2.output\n",
    "activation_2.forward(layer_2_outputs)\n",
    "activation_2_outputs = activation_2.output\n"
   ]
  },
  {
   "cell_type": "code",
   "execution_count": 42,
   "metadata": {},
   "outputs": [
    {
     "data": {
      "text/plain": [
       "array([[0.33333334, 0.33333334, 0.33333334],\n",
       "       [0.33333418, 0.33333272, 0.33333308],\n",
       "       [0.3333347 , 0.33333236, 0.33333296],\n",
       "       [0.33333558, 0.33333167, 0.33333272],\n",
       "       [0.3333367 , 0.3333308 , 0.3333324 ]], dtype=float32)"
      ]
     },
     "execution_count": 42,
     "metadata": {},
     "output_type": "execute_result"
    }
   ],
   "source": [
    "activation_2_outputs[:5]"
   ]
  },
  {
   "cell_type": "markdown",
   "metadata": {},
   "source": [
    "# Loss Functions"
   ]
  },
  {
   "cell_type": "markdown",
   "metadata": {},
   "source": [
    "## Categorical Cross-Entropy Loss"
   ]
  },
  {
   "cell_type": "markdown",
   "metadata": {},
   "source": [
    "### Pure python code"
   ]
  },
  {
   "cell_type": "code",
   "execution_count": 43,
   "metadata": {},
   "outputs": [
    {
     "data": {
      "text/plain": [
       "2.718281828459045"
      ]
     },
     "execution_count": 43,
     "metadata": {},
     "output_type": "execute_result"
    }
   ],
   "source": [
    "# Value of Eular's number\n",
    "import math\n",
    "E = math.e\n",
    "E"
   ]
  },
  {
   "cell_type": "code",
   "execution_count": 44,
   "metadata": {},
   "outputs": [
    {
     "data": {
      "text/plain": [
       "[1.0986122588657878,\n",
       " 1.0986097554739154,\n",
       " 1.098608146153878,\n",
       " 1.0986055533659322,\n",
       " 1.0986021559298342]"
      ]
     },
     "execution_count": 44,
     "metadata": {},
     "output_type": "execute_result"
    }
   ],
   "source": [
    "loss = [-math.log(probs[y[i]])for i,probs in enumerate(activation_2_outputs)]\n",
    "loss[:5]"
   ]
  },
  {
   "cell_type": "markdown",
   "metadata": {},
   "source": [
    "### Using numpy"
   ]
  },
  {
   "cell_type": "code",
   "execution_count": 45,
   "metadata": {},
   "outputs": [
    {
     "data": {
      "text/plain": [
       "1.0986176"
      ]
     },
     "execution_count": 45,
     "metadata": {},
     "output_type": "execute_result"
    }
   ],
   "source": [
    "loss_singular = -np.log(activation_2_outputs[range(len(activation_2_outputs)),list(y)])\n",
    "np.mean(loss_singular)"
   ]
  },
  {
   "cell_type": "code",
   "execution_count": 46,
   "metadata": {},
   "outputs": [],
   "source": [
    "#to prevent edge errors of log we will clip both ends of the predictions\n",
    "#np.clip(activation_2_outputs, 1e-7, 1-1e-7)"
   ]
  },
  {
   "cell_type": "markdown",
   "metadata": {},
   "source": [
    "### Creating a Class for Categorical Crossentropy"
   ]
  },
  {
   "cell_type": "code",
   "execution_count": 47,
   "metadata": {},
   "outputs": [],
   "source": [
    "# As we will create more loss functions let's make a common Loss class\n",
    "class Loss():\n",
    "\n",
    "    def calculate(self, preds, y):\n",
    "\n",
    "        losses = self.forward(preds, y)\n",
    "\n",
    "        return np.mean(losses)"
   ]
  },
  {
   "cell_type": "code",
   "execution_count": 48,
   "metadata": {},
   "outputs": [],
   "source": [
    "#inherit from loss class\n",
    "class CategoricalCrossentropy(Loss):\n",
    "\n",
    "    def forward(self, preds, truth):\n",
    "\n",
    "        n_samples = len(truth)\n",
    "\n",
    "        clipped_preds = np.clip(preds, 1e-7, 1-1e-7)\n",
    "        \n",
    "        #if sparsely encoded\n",
    "        if len(truth.shape) == 1:\n",
    "            confidences = clipped_preds[range(n_samples), truth]\n",
    "        \n",
    "        #if one_hot encoded\n",
    "        elif len(truth.shape) == 2:\n",
    "            confidences = np.sum(clipped_preds * truth, axis=1)\n",
    "            \n",
    "        return -np.log(confidences)"
   ]
  },
  {
   "cell_type": "markdown",
   "metadata": {},
   "source": [
    "> Continuation from [Using all we built together](#code_2)"
   ]
  },
  {
   "cell_type": "code",
   "execution_count": 49,
   "metadata": {},
   "outputs": [],
   "source": [
    "loss_fn1 = CategoricalCrossentropy()\n",
    "loss_model_1 = loss_fn1.calculate(activation_2_outputs, y)"
   ]
  },
  {
   "cell_type": "code",
   "execution_count": 50,
   "metadata": {},
   "outputs": [
    {
     "data": {
      "text/plain": [
       "1.0986176"
      ]
     },
     "execution_count": 50,
     "metadata": {},
     "output_type": "execute_result"
    }
   ],
   "source": [
    "loss_model_1"
   ]
  },
  {
   "cell_type": "markdown",
   "metadata": {},
   "source": [
    "### Accuracy"
   ]
  },
  {
   "cell_type": "code",
   "execution_count": 51,
   "metadata": {},
   "outputs": [],
   "source": [
    "def accuracy(preds, truth):\n",
    "    # handling one_hot\n",
    "    if truth.ndim == 2:\n",
    "        truth = np.argmax(truth, axis=1)\n",
    "    preds = np.argmax(preds, axis=1)\n",
    "    return np.mean(preds==truth)"
   ]
  },
  {
   "cell_type": "code",
   "execution_count": 52,
   "metadata": {},
   "outputs": [
    {
     "data": {
      "text/plain": [
       "0.3333333333333333"
      ]
     },
     "execution_count": 52,
     "metadata": {},
     "output_type": "execute_result"
    }
   ],
   "source": [
    "accuracy(activation_2_outputs, y)"
   ]
  },
  {
   "cell_type": "markdown",
   "metadata": {},
   "source": [
    "# Optimization"
   ]
  },
  {
   "cell_type": "markdown",
   "metadata": {},
   "source": [
    "## Random initialization"
   ]
  },
  {
   "cell_type": "code",
   "execution_count": 53,
   "metadata": {},
   "outputs": [
    {
     "data": {
      "image/png": "[encoded data removed]",
      "text/plain": [
       "<Figure size 400x400 with 1 Axes>"
      ]
     },
     "metadata": {},
     "output_type": "display_data"
    }
   ],
   "source": [
    "# Let's create a more simple dataset\n",
    "from nnfs.datasets import vertical_data\n",
    "\n",
    "X, y = vertical_data(samples=100, classes=3)\n",
    "plt.figure(figsize=(4,4))\n",
    "plt.scatter(X[:,0], X[:,1], c = y, cmap=plt.cm.gist_rainbow)\n",
    "plt.xticks()\n",
    "plt.yticks()\n",
    "plt.show()"
   ]
  },
  {
   "cell_type": "code",
   "execution_count": 54,
   "metadata": {},
   "outputs": [
    {
     "name": "stdout",
     "output_type": "stream",
     "text": [
      "epoch : 1/10000\n",
      "---------------------------------------------------\n",
      "Loss has decreased from 99999 to 1.098744511604309\n",
      " accuracy : 0.3333333333333333\n",
      "\n",
      "epoch : 5/10000\n",
      "---------------------------------------------------\n",
      "Loss has decreased from 1.098744511604309 to 1.0983238220214844\n",
      " accuracy : 0.3333333333333333\n",
      "\n",
      "epoch : 28/10000\n",
      "---------------------------------------------------\n",
      "Loss has decreased from 1.0983238220214844 to 1.096948504447937\n",
      " accuracy : 0.3333333333333333\n",
      "\n",
      "epoch : 1136/10000\n",
      "---------------------------------------------------\n",
      "Loss has decreased from 1.096948504447937 to 1.0964627265930176\n",
      " accuracy : 0.3333333333333333\n",
      "\n",
      "epoch : 3820/10000\n",
      "---------------------------------------------------\n",
      "Loss has decreased from 1.0964627265930176 to 1.0963661670684814\n",
      " accuracy : 0.3333333333333333\n",
      "\n",
      "epoch : 5364/10000\n",
      "---------------------------------------------------\n",
      "Loss has decreased from 1.0963661670684814 to 1.0958675146102905\n",
      " accuracy : 0.58\n",
      "\n"
     ]
    }
   ],
   "source": [
    "epochs = 10000\n",
    "hidden_layer_nodes = 3\n",
    "lowest_loss = 99999\n",
    "dense_1 = Dense_Layer(2, hidden_layer_nodes)\n",
    "relu_1 = ReLU_Activation()\n",
    "dense_2 = Dense_Layer(hidden_layer_nodes, 3)\n",
    "softmax_1 = Softmax_Activation()\n",
    "lossfunc = CategoricalCrossentropy()\n",
    "\n",
    "for _ in range(epochs):\n",
    "    dense_1.weights = 0.05 * np.random.randn(*dense_1.weights.shape)\n",
    "    dense_1.biases = 0.05 * np.random.randn(*dense_1.biases.shape)\n",
    "    dense_2.weights = 0.05 * np.random.randn(*dense_2.weights.shape)\n",
    "    dense_2.biases = 0.05 * np.random.randn(*dense_2.biases.shape)\n",
    "     \n",
    "    dense_1.forward(X)\n",
    "    relu_1.forward(dense_1.output)\n",
    "    dense_2.forward(relu_1.output)\n",
    "    softmax_1.forward(dense_2.output)\n",
    "    loss = lossfunc.calculate(softmax_1.output, y)\n",
    "    acc = accuracy(softmax_1.output, y)\n",
    "\n",
    "    if loss < lowest_loss:\n",
    "        print(f'epoch : {_ + 1}/{epochs}\\n---------------------------------------------------\\nLoss has decreased from {lowest_loss} to {loss}\\n accuracy : {acc}')\n",
    "        lowest_loss = loss\n",
    "        dense_1_weights = dense_1.weights.copy()\n",
    "        dense_1_biases = dense_1.biases.copy()\n",
    "        dense_2_weights = dense_2.weights.copy()\n",
    "        dense_2_biases = dense_2.biases.copy()\n",
    "        print('')\n",
    "    "
   ]
  },
  {
   "cell_type": "code",
   "execution_count": 55,
   "metadata": {},
   "outputs": [
    {
     "data": {
      "image/png": "[encoded data removed]",
      "text/plain": [
       "<Figure size 640x480 with 1 Axes>"
      ]
     },
     "metadata": {},
     "output_type": "display_data"
    }
   ],
   "source": [
    "def plot_preds_1():\n",
    "    ymi, yma, xmi, xma = X.transpose()[1].min() - 0.1, X.transpose()[1].max() + 0.1,X.transpose()[0].min()- 0.1, X.transpose()[0].max() + 0.1\n",
    "    a = np.linspace(xmi,xma, 2000)\n",
    "    b = np.linspace(ymi,yma, 2000)\n",
    "    xx,yy = np.meshgrid(a,b)\n",
    "    data = np.c_[xx.ravel(),yy.ravel()]\n",
    "    dense_1.forward(data)\n",
    "    relu_1.forward(dense_1.output)\n",
    "    dense_2.forward(relu_1.output)\n",
    "    softmax_1.forward(dense_2.output)\n",
    "    preders = np.argmax(softmax_1.output, axis=1)\n",
    "    plt.figure()\n",
    "    plt.contourf(xx,yy, preders.reshape((2000,2000)),cmap=plt.cm.gist_rainbow, alpha = 0.3)\n",
    "    plt.scatter(X.transpose()[0],X.transpose()[1], c = y, cmap=plt.cm.gist_rainbow,alpha=1)\n",
    "    plt.title('Decision boundary learned by model')\n",
    "    plt.axis(False)\n",
    "    plt.show()\n",
    "plot_preds_1()"
   ]
  },
  {
   "cell_type": "markdown",
   "metadata": {},
   "source": [
    "## Random adjustment\n",
    "- Code is same as Random initialization but instead of initializing every time we add to current weights and restore best weights if loss does not reduce"
   ]
  },
  {
   "cell_type": "code",
   "execution_count": 56,
   "metadata": {},
   "outputs": [
    {
     "name": "stdout",
     "output_type": "stream",
     "text": [
      "epoch : 1/10000\n",
      "---------------------------------------------------\n",
      "Loss has decreased from 99999 to 1.0992566347122192\n",
      " accuracy : 0.3333333333333333\n",
      "\n",
      "epoch : 17/10000\n",
      "---------------------------------------------------\n",
      "Loss has decreased from 1.0992566347122192 to 1.0988746881484985\n",
      " accuracy : 0.3333333333333333\n",
      "\n",
      "epoch : 22/10000\n",
      "---------------------------------------------------\n",
      "Loss has decreased from 1.0988746881484985 to 1.0966914892196655\n",
      " accuracy : 0.3333333333333333\n",
      "\n",
      "epoch : 25/10000\n",
      "---------------------------------------------------\n",
      "Loss has decreased from 1.0966914892196655 to 1.096348524093628\n",
      " accuracy : 0.3333333333333333\n",
      "\n",
      "epoch : 27/10000\n",
      "---------------------------------------------------\n",
      "Loss has decreased from 1.096348524093628 to 1.0961793661117554\n",
      " accuracy : 0.3333333333333333\n",
      "\n",
      "epoch : 28/10000\n",
      "---------------------------------------------------\n",
      "Loss has decreased from 1.0961793661117554 to 1.0952434539794922\n",
      " accuracy : 0.3333333333333333\n",
      "\n",
      "epoch : 29/10000\n",
      "---------------------------------------------------\n",
      "Loss has decreased from 1.0952434539794922 to 1.0922189950942993\n",
      " accuracy : 0.5733333333333334\n",
      "\n",
      "epoch : 30/10000\n",
      "---------------------------------------------------\n",
      "Loss has decreased from 1.0922189950942993 to 1.0901741981506348\n",
      " accuracy : 0.3333333333333333\n",
      "\n",
      "epoch : 31/10000\n",
      "---------------------------------------------------\n",
      "Loss has decreased from 1.0901741981506348 to 1.089460015296936\n",
      " accuracy : 0.3333333333333333\n",
      "\n",
      "epoch : 32/10000\n",
      "---------------------------------------------------\n",
      "Loss has decreased from 1.089460015296936 to 1.0878617763519287\n",
      " accuracy : 0.3333333333333333\n",
      "\n",
      "epoch : 33/10000\n",
      "---------------------------------------------------\n",
      "Loss has decreased from 1.0878617763519287 to 1.0873318910598755\n",
      " accuracy : 0.3333333333333333\n",
      "\n",
      "epoch : 34/10000\n",
      "---------------------------------------------------\n",
      "Loss has decreased from 1.0873318910598755 to 1.0854616165161133\n",
      " accuracy : 0.3333333333333333\n",
      "\n",
      "epoch : 35/10000\n",
      "---------------------------------------------------\n",
      "Loss has decreased from 1.0854616165161133 to 1.0841816663742065\n",
      " accuracy : 0.3333333333333333\n",
      "\n",
      "epoch : 39/10000\n",
      "---------------------------------------------------\n",
      "Loss has decreased from 1.0841816663742065 to 1.0841740369796753\n",
      " accuracy : 0.3333333333333333\n",
      "\n",
      "epoch : 42/10000\n",
      "---------------------------------------------------\n",
      "Loss has decreased from 1.0841740369796753 to 1.0816322565078735\n",
      " accuracy : 0.6133333333333333\n",
      "\n",
      "epoch : 47/10000\n",
      "---------------------------------------------------\n",
      "Loss has decreased from 1.0816322565078735 to 1.0782076120376587\n",
      " accuracy : 0.3333333333333333\n",
      "\n",
      "epoch : 48/10000\n",
      "---------------------------------------------------\n",
      "Loss has decreased from 1.0782076120376587 to 1.0715726613998413\n",
      " accuracy : 0.3333333333333333\n",
      "\n",
      "epoch : 50/10000\n",
      "---------------------------------------------------\n",
      "Loss has decreased from 1.0715726613998413 to 1.0715327262878418\n",
      " accuracy : 0.6133333333333333\n",
      "\n",
      "epoch : 51/10000\n",
      "---------------------------------------------------\n",
      "Loss has decreased from 1.0715327262878418 to 1.0710772275924683\n",
      " accuracy : 0.6633333333333333\n",
      "\n",
      "epoch : 55/10000\n",
      "---------------------------------------------------\n",
      "Loss has decreased from 1.0710772275924683 to 1.0652954578399658\n",
      " accuracy : 0.6633333333333333\n",
      "\n",
      "epoch : 57/10000\n",
      "---------------------------------------------------\n",
      "Loss has decreased from 1.0652954578399658 to 1.0650722980499268\n",
      " accuracy : 0.3333333333333333\n",
      "\n",
      "epoch : 61/10000\n",
      "---------------------------------------------------\n",
      "Loss has decreased from 1.0650722980499268 to 1.062394618988037\n",
      " accuracy : 0.33666666666666667\n",
      "\n",
      "epoch : 63/10000\n",
      "---------------------------------------------------\n",
      "Loss has decreased from 1.062394618988037 to 1.0537577867507935\n",
      " accuracy : 0.6466666666666666\n",
      "\n",
      "epoch : 65/10000\n",
      "---------------------------------------------------\n",
      "Loss has decreased from 1.0537577867507935 to 1.0534535646438599\n",
      " accuracy : 0.6633333333333333\n",
      "\n",
      "epoch : 68/10000\n",
      "---------------------------------------------------\n",
      "Loss has decreased from 1.0534535646438599 to 1.0473673343658447\n",
      " accuracy : 0.4866666666666667\n",
      "\n",
      "epoch : 69/10000\n",
      "---------------------------------------------------\n",
      "Loss has decreased from 1.0473673343658447 to 1.042852520942688\n",
      " accuracy : 0.4533333333333333\n",
      "\n",
      "epoch : 75/10000\n",
      "---------------------------------------------------\n",
      "Loss has decreased from 1.042852520942688 to 1.0403814315795898\n",
      " accuracy : 0.7733333333333333\n",
      "\n",
      "epoch : 76/10000\n",
      "---------------------------------------------------\n",
      "Loss has decreased from 1.0403814315795898 to 1.03336763381958\n",
      " accuracy : 0.6666666666666666\n",
      "\n",
      "epoch : 80/10000\n",
      "---------------------------------------------------\n",
      "Loss has decreased from 1.03336763381958 to 1.0288665294647217\n",
      " accuracy : 0.69\n",
      "\n",
      "epoch : 83/10000\n",
      "---------------------------------------------------\n",
      "Loss has decreased from 1.0288665294647217 to 1.0275940895080566\n",
      " accuracy : 0.43333333333333335\n",
      "\n",
      "epoch : 84/10000\n",
      "---------------------------------------------------\n",
      "Loss has decreased from 1.0275940895080566 to 1.026056170463562\n",
      " accuracy : 0.6033333333333334\n",
      "\n",
      "epoch : 90/10000\n",
      "---------------------------------------------------\n",
      "Loss has decreased from 1.026056170463562 to 1.016448736190796\n",
      " accuracy : 0.61\n",
      "\n",
      "epoch : 94/10000\n",
      "---------------------------------------------------\n",
      "Loss has decreased from 1.016448736190796 to 1.0161935091018677\n",
      " accuracy : 0.55\n",
      "\n",
      "epoch : 96/10000\n",
      "---------------------------------------------------\n",
      "Loss has decreased from 1.0161935091018677 to 1.0115470886230469\n",
      " accuracy : 0.44\n",
      "\n",
      "epoch : 99/10000\n",
      "---------------------------------------------------\n",
      "Loss has decreased from 1.0115470886230469 to 1.0041950941085815\n",
      " accuracy : 0.36333333333333334\n",
      "\n",
      "epoch : 101/10000\n",
      "---------------------------------------------------\n",
      "Loss has decreased from 1.0041950941085815 to 1.003821611404419\n",
      " accuracy : 0.3333333333333333\n",
      "\n",
      "epoch : 102/10000\n",
      "---------------------------------------------------\n",
      "Loss has decreased from 1.003821611404419 to 0.997873842716217\n",
      " accuracy : 0.3333333333333333\n",
      "\n",
      "epoch : 104/10000\n",
      "---------------------------------------------------\n",
      "Loss has decreased from 0.997873842716217 to 0.9962253570556641\n",
      " accuracy : 0.3333333333333333\n",
      "\n",
      "epoch : 106/10000\n",
      "---------------------------------------------------\n",
      "Loss has decreased from 0.9962253570556641 to 0.978488564491272\n",
      " accuracy : 0.3333333333333333\n",
      "\n",
      "epoch : 107/10000\n",
      "---------------------------------------------------\n",
      "Loss has decreased from 0.978488564491272 to 0.9724636077880859\n",
      " accuracy : 0.5766666666666667\n",
      "\n",
      "epoch : 110/10000\n",
      "---------------------------------------------------\n",
      "Loss has decreased from 0.9724636077880859 to 0.972275972366333\n",
      " accuracy : 0.4166666666666667\n",
      "\n",
      "epoch : 112/10000\n",
      "---------------------------------------------------\n",
      "Loss has decreased from 0.972275972366333 to 0.9698479175567627\n",
      " accuracy : 0.61\n",
      "\n",
      "epoch : 113/10000\n",
      "---------------------------------------------------\n",
      "Loss has decreased from 0.9698479175567627 to 0.9611692428588867\n",
      " accuracy : 0.62\n",
      "\n",
      "epoch : 114/10000\n",
      "---------------------------------------------------\n",
      "Loss has decreased from 0.9611692428588867 to 0.9596063494682312\n",
      " accuracy : 0.6033333333333334\n",
      "\n",
      "epoch : 116/10000\n",
      "---------------------------------------------------\n",
      "Loss has decreased from 0.9596063494682312 to 0.9475375413894653\n",
      " accuracy : 0.49666666666666665\n",
      "\n",
      "epoch : 117/10000\n",
      "---------------------------------------------------\n",
      "Loss has decreased from 0.9475375413894653 to 0.9474534392356873\n",
      " accuracy : 0.37333333333333335\n",
      "\n",
      "epoch : 119/10000\n",
      "---------------------------------------------------\n",
      "Loss has decreased from 0.9474534392356873 to 0.9266294240951538\n",
      " accuracy : 0.5866666666666667\n",
      "\n",
      "epoch : 120/10000\n",
      "---------------------------------------------------\n",
      "Loss has decreased from 0.9266294240951538 to 0.9255435466766357\n",
      " accuracy : 0.6\n",
      "\n",
      "epoch : 121/10000\n",
      "---------------------------------------------------\n",
      "Loss has decreased from 0.9255435466766357 to 0.9251635670661926\n",
      " accuracy : 0.5733333333333334\n",
      "\n",
      "epoch : 123/10000\n",
      "---------------------------------------------------\n",
      "Loss has decreased from 0.9251635670661926 to 0.9235309958457947\n",
      " accuracy : 0.5833333333333334\n",
      "\n",
      "epoch : 124/10000\n",
      "---------------------------------------------------\n",
      "Loss has decreased from 0.9235309958457947 to 0.9234875440597534\n",
      " accuracy : 0.5533333333333333\n",
      "\n",
      "epoch : 129/10000\n",
      "---------------------------------------------------\n",
      "Loss has decreased from 0.9234875440597534 to 0.9146494269371033\n",
      " accuracy : 0.5666666666666667\n",
      "\n",
      "epoch : 132/10000\n",
      "---------------------------------------------------\n",
      "Loss has decreased from 0.9146494269371033 to 0.911986768245697\n",
      " accuracy : 0.6666666666666666\n",
      "\n",
      "epoch : 135/10000\n",
      "---------------------------------------------------\n",
      "Loss has decreased from 0.911986768245697 to 0.8950418829917908\n",
      " accuracy : 0.6933333333333334\n",
      "\n",
      "epoch : 136/10000\n",
      "---------------------------------------------------\n",
      "Loss has decreased from 0.8950418829917908 to 0.8838279247283936\n",
      " accuracy : 0.7533333333333333\n",
      "\n",
      "epoch : 138/10000\n",
      "---------------------------------------------------\n",
      "Loss has decreased from 0.8838279247283936 to 0.8618566989898682\n",
      " accuracy : 0.61\n",
      "\n",
      "epoch : 146/10000\n",
      "---------------------------------------------------\n",
      "Loss has decreased from 0.8618566989898682 to 0.8601078391075134\n",
      " accuracy : 0.6133333333333333\n",
      "\n",
      "epoch : 149/10000\n",
      "---------------------------------------------------\n",
      "Loss has decreased from 0.8601078391075134 to 0.8595149517059326\n",
      " accuracy : 0.64\n",
      "\n",
      "epoch : 150/10000\n",
      "---------------------------------------------------\n",
      "Loss has decreased from 0.8595149517059326 to 0.8526138663291931\n",
      " accuracy : 0.73\n",
      "\n",
      "epoch : 151/10000\n",
      "---------------------------------------------------\n",
      "Loss has decreased from 0.8526138663291931 to 0.8451714515686035\n",
      " accuracy : 0.6766666666666666\n",
      "\n",
      "epoch : 156/10000\n",
      "---------------------------------------------------\n",
      "Loss has decreased from 0.8451714515686035 to 0.8408222198486328\n",
      " accuracy : 0.6633333333333333\n",
      "\n",
      "epoch : 157/10000\n",
      "---------------------------------------------------\n",
      "Loss has decreased from 0.8408222198486328 to 0.8393115997314453\n",
      " accuracy : 0.6533333333333333\n",
      "\n",
      "epoch : 159/10000\n",
      "---------------------------------------------------\n",
      "Loss has decreased from 0.8393115997314453 to 0.8352025151252747\n",
      " accuracy : 0.63\n",
      "\n",
      "epoch : 161/10000\n",
      "---------------------------------------------------\n",
      "Loss has decreased from 0.8352025151252747 to 0.8291541934013367\n",
      " accuracy : 0.64\n",
      "\n",
      "epoch : 162/10000\n",
      "---------------------------------------------------\n",
      "Loss has decreased from 0.8291541934013367 to 0.8156360983848572\n",
      " accuracy : 0.64\n",
      "\n",
      "epoch : 163/10000\n",
      "---------------------------------------------------\n",
      "Loss has decreased from 0.8156360983848572 to 0.8145986199378967\n",
      " accuracy : 0.6666666666666666\n",
      "\n",
      "epoch : 166/10000\n",
      "---------------------------------------------------\n",
      "Loss has decreased from 0.8145986199378967 to 0.7932848334312439\n",
      " accuracy : 0.75\n",
      "\n",
      "epoch : 168/10000\n",
      "---------------------------------------------------\n",
      "Loss has decreased from 0.7932848334312439 to 0.792497992515564\n",
      " accuracy : 0.74\n",
      "\n",
      "epoch : 169/10000\n",
      "---------------------------------------------------\n",
      "Loss has decreased from 0.792497992515564 to 0.7809159159660339\n",
      " accuracy : 0.8466666666666667\n",
      "\n",
      "epoch : 170/10000\n",
      "---------------------------------------------------\n",
      "Loss has decreased from 0.7809159159660339 to 0.7786491513252258\n",
      " accuracy : 0.8266666666666667\n",
      "\n",
      "epoch : 177/10000\n",
      "---------------------------------------------------\n",
      "Loss has decreased from 0.7786491513252258 to 0.7768538594245911\n",
      " accuracy : 0.8566666666666667\n",
      "\n",
      "epoch : 179/10000\n",
      "---------------------------------------------------\n",
      "Loss has decreased from 0.7768538594245911 to 0.7715359330177307\n",
      " accuracy : 0.7933333333333333\n",
      "\n",
      "epoch : 181/10000\n",
      "---------------------------------------------------\n",
      "Loss has decreased from 0.7715359330177307 to 0.7686333656311035\n",
      " accuracy : 0.7733333333333333\n",
      "\n",
      "epoch : 183/10000\n",
      "---------------------------------------------------\n",
      "Loss has decreased from 0.7686333656311035 to 0.7628976702690125\n",
      " accuracy : 0.8166666666666667\n",
      "\n",
      "epoch : 185/10000\n",
      "---------------------------------------------------\n",
      "Loss has decreased from 0.7628976702690125 to 0.7576984167098999\n",
      " accuracy : 0.7633333333333333\n",
      "\n",
      "epoch : 197/10000\n",
      "---------------------------------------------------\n",
      "Loss has decreased from 0.7576984167098999 to 0.7565078735351562\n",
      " accuracy : 0.8033333333333333\n",
      "\n",
      "epoch : 198/10000\n",
      "---------------------------------------------------\n",
      "Loss has decreased from 0.7565078735351562 to 0.755508542060852\n",
      " accuracy : 0.8233333333333334\n",
      "\n",
      "epoch : 201/10000\n",
      "---------------------------------------------------\n",
      "Loss has decreased from 0.755508542060852 to 0.7533695101737976\n",
      " accuracy : 0.85\n",
      "\n",
      "epoch : 202/10000\n",
      "---------------------------------------------------\n",
      "Loss has decreased from 0.7533695101737976 to 0.7531173825263977\n",
      " accuracy : 0.7433333333333333\n",
      "\n",
      "epoch : 203/10000\n",
      "---------------------------------------------------\n",
      "Loss has decreased from 0.7531173825263977 to 0.7475134134292603\n",
      " accuracy : 0.77\n",
      "\n",
      "epoch : 207/10000\n",
      "---------------------------------------------------\n",
      "Loss has decreased from 0.7475134134292603 to 0.7411487102508545\n",
      " accuracy : 0.7833333333333333\n",
      "\n",
      "epoch : 210/10000\n",
      "---------------------------------------------------\n",
      "Loss has decreased from 0.7411487102508545 to 0.7389162182807922\n",
      " accuracy : 0.7833333333333333\n",
      "\n",
      "epoch : 211/10000\n",
      "---------------------------------------------------\n",
      "Loss has decreased from 0.7389162182807922 to 0.7358916997909546\n",
      " accuracy : 0.8033333333333333\n",
      "\n",
      "epoch : 212/10000\n",
      "---------------------------------------------------\n",
      "Loss has decreased from 0.7358916997909546 to 0.734937310218811\n",
      " accuracy : 0.83\n",
      "\n",
      "epoch : 213/10000\n",
      "---------------------------------------------------\n",
      "Loss has decreased from 0.734937310218811 to 0.7171300649642944\n",
      " accuracy : 0.79\n",
      "\n",
      "epoch : 218/10000\n",
      "---------------------------------------------------\n",
      "Loss has decreased from 0.7171300649642944 to 0.7123048901557922\n",
      " accuracy : 0.8\n",
      "\n",
      "epoch : 219/10000\n",
      "---------------------------------------------------\n",
      "Loss has decreased from 0.7123048901557922 to 0.7113549709320068\n",
      " accuracy : 0.7866666666666666\n",
      "\n",
      "epoch : 224/10000\n",
      "---------------------------------------------------\n",
      "Loss has decreased from 0.7113549709320068 to 0.7096273899078369\n",
      " accuracy : 0.7266666666666667\n",
      "\n",
      "epoch : 226/10000\n",
      "---------------------------------------------------\n",
      "Loss has decreased from 0.7096273899078369 to 0.7046289443969727\n",
      " accuracy : 0.7033333333333334\n",
      "\n",
      "epoch : 231/10000\n",
      "---------------------------------------------------\n",
      "Loss has decreased from 0.7046289443969727 to 0.696405291557312\n",
      " accuracy : 0.6866666666666666\n",
      "\n",
      "epoch : 232/10000\n",
      "---------------------------------------------------\n",
      "Loss has decreased from 0.696405291557312 to 0.6916672587394714\n",
      " accuracy : 0.74\n",
      "\n",
      "epoch : 236/10000\n",
      "---------------------------------------------------\n",
      "Loss has decreased from 0.6916672587394714 to 0.6838884353637695\n",
      " accuracy : 0.7266666666666667\n",
      "\n",
      "epoch : 252/10000\n",
      "---------------------------------------------------\n",
      "Loss has decreased from 0.6838884353637695 to 0.6744150519371033\n",
      " accuracy : 0.7633333333333333\n",
      "\n",
      "epoch : 257/10000\n",
      "---------------------------------------------------\n",
      "Loss has decreased from 0.6744150519371033 to 0.6686285138130188\n",
      " accuracy : 0.8066666666666666\n",
      "\n",
      "epoch : 259/10000\n",
      "---------------------------------------------------\n",
      "Loss has decreased from 0.6686285138130188 to 0.665906548500061\n",
      " accuracy : 0.8266666666666667\n",
      "\n",
      "epoch : 268/10000\n",
      "---------------------------------------------------\n",
      "Loss has decreased from 0.665906548500061 to 0.6610629558563232\n",
      " accuracy : 0.78\n",
      "\n",
      "epoch : 269/10000\n",
      "---------------------------------------------------\n",
      "Loss has decreased from 0.6610629558563232 to 0.6525710821151733\n",
      " accuracy : 0.8366666666666667\n",
      "\n",
      "epoch : 271/10000\n",
      "---------------------------------------------------\n",
      "Loss has decreased from 0.6525710821151733 to 0.6522029042243958\n",
      " accuracy : 0.7833333333333333\n",
      "\n",
      "epoch : 273/10000\n",
      "---------------------------------------------------\n",
      "Loss has decreased from 0.6522029042243958 to 0.6440267562866211\n",
      " accuracy : 0.7833333333333333\n",
      "\n",
      "epoch : 277/10000\n",
      "---------------------------------------------------\n",
      "Loss has decreased from 0.6440267562866211 to 0.6327957510948181\n",
      " accuracy : 0.8666666666666667\n",
      "\n",
      "epoch : 280/10000\n",
      "---------------------------------------------------\n",
      "Loss has decreased from 0.6327957510948181 to 0.6253660321235657\n",
      " accuracy : 0.8866666666666667\n",
      "\n",
      "epoch : 282/10000\n",
      "---------------------------------------------------\n",
      "Loss has decreased from 0.6253660321235657 to 0.6147095561027527\n",
      " accuracy : 0.9033333333333333\n",
      "\n",
      "epoch : 283/10000\n",
      "---------------------------------------------------\n",
      "Loss has decreased from 0.6147095561027527 to 0.606034517288208\n",
      " accuracy : 0.88\n",
      "\n",
      "epoch : 286/10000\n",
      "---------------------------------------------------\n",
      "Loss has decreased from 0.606034517288208 to 0.5936246514320374\n",
      " accuracy : 0.8666666666666667\n",
      "\n",
      "epoch : 287/10000\n",
      "---------------------------------------------------\n",
      "Loss has decreased from 0.5936246514320374 to 0.5920733213424683\n",
      " accuracy : 0.8733333333333333\n",
      "\n",
      "epoch : 288/10000\n",
      "---------------------------------------------------\n",
      "Loss has decreased from 0.5920733213424683 to 0.5793817043304443\n",
      " accuracy : 0.8366666666666667\n",
      "\n",
      "epoch : 292/10000\n",
      "---------------------------------------------------\n",
      "Loss has decreased from 0.5793817043304443 to 0.578097403049469\n",
      " accuracy : 0.8366666666666667\n",
      "\n",
      "epoch : 296/10000\n",
      "---------------------------------------------------\n",
      "Loss has decreased from 0.578097403049469 to 0.572752058506012\n",
      " accuracy : 0.8566666666666667\n",
      "\n",
      "epoch : 298/10000\n",
      "---------------------------------------------------\n",
      "Loss has decreased from 0.572752058506012 to 0.5651981830596924\n",
      " accuracy : 0.8633333333333333\n",
      "\n",
      "epoch : 299/10000\n",
      "---------------------------------------------------\n",
      "Loss has decreased from 0.5651981830596924 to 0.5645462274551392\n",
      " accuracy : 0.9166666666666666\n",
      "\n",
      "epoch : 305/10000\n",
      "---------------------------------------------------\n",
      "Loss has decreased from 0.5645462274551392 to 0.5561721324920654\n",
      " accuracy : 0.9233333333333333\n",
      "\n",
      "epoch : 306/10000\n",
      "---------------------------------------------------\n",
      "Loss has decreased from 0.5561721324920654 to 0.5537460446357727\n",
      " accuracy : 0.91\n",
      "\n",
      "epoch : 311/10000\n",
      "---------------------------------------------------\n",
      "Loss has decreased from 0.5537460446357727 to 0.5500728487968445\n",
      " accuracy : 0.8733333333333333\n",
      "\n",
      "epoch : 313/10000\n",
      "---------------------------------------------------\n",
      "Loss has decreased from 0.5500728487968445 to 0.5465260744094849\n",
      " accuracy : 0.88\n",
      "\n",
      "epoch : 317/10000\n",
      "---------------------------------------------------\n",
      "Loss has decreased from 0.5465260744094849 to 0.5423018336296082\n",
      " accuracy : 0.8666666666666667\n",
      "\n",
      "epoch : 318/10000\n",
      "---------------------------------------------------\n",
      "Loss has decreased from 0.5423018336296082 to 0.5280282497406006\n",
      " accuracy : 0.8733333333333333\n",
      "\n",
      "epoch : 324/10000\n",
      "---------------------------------------------------\n",
      "Loss has decreased from 0.5280282497406006 to 0.5252572894096375\n",
      " accuracy : 0.9033333333333333\n",
      "\n",
      "epoch : 325/10000\n",
      "---------------------------------------------------\n",
      "Loss has decreased from 0.5252572894096375 to 0.5242741703987122\n",
      " accuracy : 0.9133333333333333\n",
      "\n",
      "epoch : 327/10000\n",
      "---------------------------------------------------\n",
      "Loss has decreased from 0.5242741703987122 to 0.5200490355491638\n",
      " accuracy : 0.8533333333333334\n",
      "\n",
      "epoch : 329/10000\n",
      "---------------------------------------------------\n",
      "Loss has decreased from 0.5200490355491638 to 0.513155996799469\n",
      " accuracy : 0.8766666666666667\n",
      "\n",
      "epoch : 331/10000\n",
      "---------------------------------------------------\n",
      "Loss has decreased from 0.513155996799469 to 0.5109346508979797\n",
      " accuracy : 0.9033333333333333\n",
      "\n",
      "epoch : 334/10000\n",
      "---------------------------------------------------\n",
      "Loss has decreased from 0.5109346508979797 to 0.5064696073532104\n",
      " accuracy : 0.9233333333333333\n",
      "\n",
      "epoch : 337/10000\n",
      "---------------------------------------------------\n",
      "Loss has decreased from 0.5064696073532104 to 0.5019416213035583\n",
      " accuracy : 0.9233333333333333\n",
      "\n",
      "epoch : 338/10000\n",
      "---------------------------------------------------\n",
      "Loss has decreased from 0.5019416213035583 to 0.49448496103286743\n",
      " accuracy : 0.9266666666666666\n",
      "\n",
      "epoch : 347/10000\n",
      "---------------------------------------------------\n",
      "Loss has decreased from 0.49448496103286743 to 0.4931306540966034\n",
      " accuracy : 0.8966666666666666\n",
      "\n",
      "epoch : 350/10000\n",
      "---------------------------------------------------\n",
      "Loss has decreased from 0.4931306540966034 to 0.48627638816833496\n",
      " accuracy : 0.93\n",
      "\n",
      "epoch : 356/10000\n",
      "---------------------------------------------------\n",
      "Loss has decreased from 0.48627638816833496 to 0.48622381687164307\n",
      " accuracy : 0.9333333333333333\n",
      "\n",
      "epoch : 358/10000\n",
      "---------------------------------------------------\n",
      "Loss has decreased from 0.48622381687164307 to 0.4853646755218506\n",
      " accuracy : 0.9166666666666666\n",
      "\n",
      "epoch : 365/10000\n",
      "---------------------------------------------------\n",
      "Loss has decreased from 0.4853646755218506 to 0.48426809906959534\n",
      " accuracy : 0.9133333333333333\n",
      "\n",
      "epoch : 377/10000\n",
      "---------------------------------------------------\n",
      "Loss has decreased from 0.48426809906959534 to 0.4830631613731384\n",
      " accuracy : 0.8733333333333333\n",
      "\n",
      "epoch : 380/10000\n",
      "---------------------------------------------------\n",
      "Loss has decreased from 0.4830631613731384 to 0.48136982321739197\n",
      " accuracy : 0.8666666666666667\n",
      "\n",
      "epoch : 381/10000\n",
      "---------------------------------------------------\n",
      "Loss has decreased from 0.48136982321739197 to 0.47631287574768066\n",
      " accuracy : 0.89\n",
      "\n",
      "epoch : 391/10000\n",
      "---------------------------------------------------\n",
      "Loss has decreased from 0.47631287574768066 to 0.4754635691642761\n",
      " accuracy : 0.9\n",
      "\n",
      "epoch : 402/10000\n",
      "---------------------------------------------------\n",
      "Loss has decreased from 0.4754635691642761 to 0.47350311279296875\n",
      " accuracy : 0.8966666666666666\n",
      "\n",
      "epoch : 404/10000\n",
      "---------------------------------------------------\n",
      "Loss has decreased from 0.47350311279296875 to 0.4725358486175537\n",
      " accuracy : 0.9333333333333333\n",
      "\n",
      "epoch : 407/10000\n",
      "---------------------------------------------------\n",
      "Loss has decreased from 0.4725358486175537 to 0.4678889513015747\n",
      " accuracy : 0.9266666666666666\n",
      "\n",
      "epoch : 414/10000\n",
      "---------------------------------------------------\n",
      "Loss has decreased from 0.4678889513015747 to 0.4647708535194397\n",
      " accuracy : 0.9133333333333333\n",
      "\n",
      "epoch : 415/10000\n",
      "---------------------------------------------------\n",
      "Loss has decreased from 0.4647708535194397 to 0.4644923806190491\n",
      " accuracy : 0.9166666666666666\n",
      "\n",
      "epoch : 420/10000\n",
      "---------------------------------------------------\n",
      "Loss has decreased from 0.4644923806190491 to 0.4530307948589325\n",
      " accuracy : 0.9133333333333333\n",
      "\n",
      "epoch : 429/10000\n",
      "---------------------------------------------------\n",
      "Loss has decreased from 0.4530307948589325 to 0.4507977366447449\n",
      " accuracy : 0.9066666666666666\n",
      "\n",
      "epoch : 431/10000\n",
      "---------------------------------------------------\n",
      "Loss has decreased from 0.4507977366447449 to 0.4507330358028412\n",
      " accuracy : 0.9066666666666666\n",
      "\n",
      "epoch : 432/10000\n",
      "---------------------------------------------------\n",
      "Loss has decreased from 0.4507330358028412 to 0.44824573397636414\n",
      " accuracy : 0.88\n",
      "\n",
      "epoch : 438/10000\n",
      "---------------------------------------------------\n",
      "Loss has decreased from 0.44824573397636414 to 0.44577881693840027\n",
      " accuracy : 0.9033333333333333\n",
      "\n",
      "epoch : 450/10000\n",
      "---------------------------------------------------\n",
      "Loss has decreased from 0.44577881693840027 to 0.44384175539016724\n",
      " accuracy : 0.9033333333333333\n",
      "\n",
      "epoch : 461/10000\n",
      "---------------------------------------------------\n",
      "Loss has decreased from 0.44384175539016724 to 0.4420620799064636\n",
      " accuracy : 0.91\n",
      "\n",
      "epoch : 467/10000\n",
      "---------------------------------------------------\n",
      "Loss has decreased from 0.4420620799064636 to 0.43931514024734497\n",
      " accuracy : 0.92\n",
      "\n",
      "epoch : 468/10000\n",
      "---------------------------------------------------\n",
      "Loss has decreased from 0.43931514024734497 to 0.4341135025024414\n",
      " accuracy : 0.93\n",
      "\n",
      "epoch : 477/10000\n",
      "---------------------------------------------------\n",
      "Loss has decreased from 0.4341135025024414 to 0.4325709044933319\n",
      " accuracy : 0.9266666666666666\n",
      "\n",
      "epoch : 478/10000\n",
      "---------------------------------------------------\n",
      "Loss has decreased from 0.4325709044933319 to 0.4323229491710663\n",
      " accuracy : 0.8933333333333333\n",
      "\n",
      "epoch : 479/10000\n",
      "---------------------------------------------------\n",
      "Loss has decreased from 0.4323229491710663 to 0.4312785267829895\n",
      " accuracy : 0.9066666666666666\n",
      "\n",
      "epoch : 483/10000\n",
      "---------------------------------------------------\n",
      "Loss has decreased from 0.4312785267829895 to 0.43051156401634216\n",
      " accuracy : 0.9133333333333333\n",
      "\n",
      "epoch : 486/10000\n",
      "---------------------------------------------------\n",
      "Loss has decreased from 0.43051156401634216 to 0.42919617891311646\n",
      " accuracy : 0.91\n",
      "\n",
      "epoch : 487/10000\n",
      "---------------------------------------------------\n",
      "Loss has decreased from 0.42919617891311646 to 0.42252111434936523\n",
      " accuracy : 0.8866666666666667\n",
      "\n",
      "epoch : 490/10000\n",
      "---------------------------------------------------\n",
      "Loss has decreased from 0.42252111434936523 to 0.4172942638397217\n",
      " accuracy : 0.9166666666666666\n",
      "\n",
      "epoch : 494/10000\n",
      "---------------------------------------------------\n",
      "Loss has decreased from 0.4172942638397217 to 0.41179782152175903\n",
      " accuracy : 0.92\n",
      "\n",
      "epoch : 496/10000\n",
      "---------------------------------------------------\n",
      "Loss has decreased from 0.41179782152175903 to 0.4051585793495178\n",
      " accuracy : 0.92\n",
      "\n",
      "epoch : 506/10000\n",
      "---------------------------------------------------\n",
      "Loss has decreased from 0.4051585793495178 to 0.40097951889038086\n",
      " accuracy : 0.93\n",
      "\n",
      "epoch : 514/10000\n",
      "---------------------------------------------------\n",
      "Loss has decreased from 0.40097951889038086 to 0.3976377546787262\n",
      " accuracy : 0.9233333333333333\n",
      "\n",
      "epoch : 515/10000\n",
      "---------------------------------------------------\n",
      "Loss has decreased from 0.3976377546787262 to 0.396149605512619\n",
      " accuracy : 0.92\n",
      "\n",
      "epoch : 516/10000\n",
      "---------------------------------------------------\n",
      "Loss has decreased from 0.396149605512619 to 0.39356425404548645\n",
      " accuracy : 0.91\n",
      "\n",
      "epoch : 521/10000\n",
      "---------------------------------------------------\n",
      "Loss has decreased from 0.39356425404548645 to 0.388715922832489\n",
      " accuracy : 0.94\n",
      "\n",
      "epoch : 533/10000\n",
      "---------------------------------------------------\n",
      "Loss has decreased from 0.388715922832489 to 0.3835190236568451\n",
      " accuracy : 0.9366666666666666\n",
      "\n",
      "epoch : 538/10000\n",
      "---------------------------------------------------\n",
      "Loss has decreased from 0.3835190236568451 to 0.381698340177536\n",
      " accuracy : 0.9266666666666666\n",
      "\n",
      "epoch : 539/10000\n",
      "---------------------------------------------------\n",
      "Loss has decreased from 0.381698340177536 to 0.37829893827438354\n",
      " accuracy : 0.93\n",
      "\n",
      "epoch : 546/10000\n",
      "---------------------------------------------------\n",
      "Loss has decreased from 0.37829893827438354 to 0.37509867548942566\n",
      " accuracy : 0.93\n",
      "\n",
      "epoch : 548/10000\n",
      "---------------------------------------------------\n",
      "Loss has decreased from 0.37509867548942566 to 0.37348365783691406\n",
      " accuracy : 0.9333333333333333\n",
      "\n",
      "epoch : 551/10000\n",
      "---------------------------------------------------\n",
      "Loss has decreased from 0.37348365783691406 to 0.3694927990436554\n",
      " accuracy : 0.93\n",
      "\n",
      "epoch : 563/10000\n",
      "---------------------------------------------------\n",
      "Loss has decreased from 0.3694927990436554 to 0.36912915110588074\n",
      " accuracy : 0.94\n",
      "\n",
      "epoch : 564/10000\n",
      "---------------------------------------------------\n",
      "Loss has decreased from 0.36912915110588074 to 0.36907118558883667\n",
      " accuracy : 0.9433333333333334\n",
      "\n",
      "epoch : 568/10000\n",
      "---------------------------------------------------\n",
      "Loss has decreased from 0.36907118558883667 to 0.36691397428512573\n",
      " accuracy : 0.93\n",
      "\n",
      "epoch : 572/10000\n",
      "---------------------------------------------------\n",
      "Loss has decreased from 0.36691397428512573 to 0.3568754494190216\n",
      " accuracy : 0.9366666666666666\n",
      "\n",
      "epoch : 573/10000\n",
      "---------------------------------------------------\n",
      "Loss has decreased from 0.3568754494190216 to 0.3543021082878113\n",
      " accuracy : 0.9366666666666666\n",
      "\n",
      "epoch : 587/10000\n",
      "---------------------------------------------------\n",
      "Loss has decreased from 0.3543021082878113 to 0.351388156414032\n",
      " accuracy : 0.9233333333333333\n",
      "\n",
      "epoch : 589/10000\n",
      "---------------------------------------------------\n",
      "Loss has decreased from 0.351388156414032 to 0.34853076934814453\n",
      " accuracy : 0.9166666666666666\n",
      "\n",
      "epoch : 598/10000\n",
      "---------------------------------------------------\n",
      "Loss has decreased from 0.34853076934814453 to 0.34840500354766846\n",
      " accuracy : 0.93\n",
      "\n",
      "epoch : 601/10000\n",
      "---------------------------------------------------\n",
      "Loss has decreased from 0.34840500354766846 to 0.33704766631126404\n",
      " accuracy : 0.9366666666666666\n",
      "\n",
      "epoch : 603/10000\n",
      "---------------------------------------------------\n",
      "Loss has decreased from 0.33704766631126404 to 0.33574530482292175\n",
      " accuracy : 0.93\n",
      "\n",
      "epoch : 607/10000\n",
      "---------------------------------------------------\n",
      "Loss has decreased from 0.33574530482292175 to 0.33311817049980164\n",
      " accuracy : 0.93\n",
      "\n",
      "epoch : 610/10000\n",
      "---------------------------------------------------\n",
      "Loss has decreased from 0.33311817049980164 to 0.3304581344127655\n",
      " accuracy : 0.9333333333333333\n",
      "\n",
      "epoch : 613/10000\n",
      "---------------------------------------------------\n",
      "Loss has decreased from 0.3304581344127655 to 0.3264954686164856\n",
      " accuracy : 0.9333333333333333\n",
      "\n",
      "epoch : 615/10000\n",
      "---------------------------------------------------\n",
      "Loss has decreased from 0.3264954686164856 to 0.3247767686843872\n",
      " accuracy : 0.9166666666666666\n",
      "\n",
      "epoch : 621/10000\n",
      "---------------------------------------------------\n",
      "Loss has decreased from 0.3247767686843872 to 0.3244783580303192\n",
      " accuracy : 0.9233333333333333\n",
      "\n",
      "epoch : 622/10000\n",
      "---------------------------------------------------\n",
      "Loss has decreased from 0.3244783580303192 to 0.3213372826576233\n",
      " accuracy : 0.9333333333333333\n",
      "\n",
      "epoch : 623/10000\n",
      "---------------------------------------------------\n",
      "Loss has decreased from 0.3213372826576233 to 0.31754863262176514\n",
      " accuracy : 0.9266666666666666\n",
      "\n",
      "epoch : 625/10000\n",
      "---------------------------------------------------\n",
      "Loss has decreased from 0.31754863262176514 to 0.31700846552848816\n",
      " accuracy : 0.91\n",
      "\n",
      "epoch : 626/10000\n",
      "---------------------------------------------------\n",
      "Loss has decreased from 0.31700846552848816 to 0.31149566173553467\n",
      " accuracy : 0.93\n",
      "\n",
      "epoch : 635/10000\n",
      "---------------------------------------------------\n",
      "Loss has decreased from 0.31149566173553467 to 0.3098376989364624\n",
      " accuracy : 0.93\n",
      "\n",
      "epoch : 637/10000\n",
      "---------------------------------------------------\n",
      "Loss has decreased from 0.3098376989364624 to 0.30492696166038513\n",
      " accuracy : 0.9333333333333333\n",
      "\n",
      "epoch : 642/10000\n",
      "---------------------------------------------------\n",
      "Loss has decreased from 0.30492696166038513 to 0.30143019556999207\n",
      " accuracy : 0.94\n",
      "\n",
      "epoch : 643/10000\n",
      "---------------------------------------------------\n",
      "Loss has decreased from 0.30143019556999207 to 0.3009854555130005\n",
      " accuracy : 0.9433333333333334\n",
      "\n",
      "epoch : 644/10000\n",
      "---------------------------------------------------\n",
      "Loss has decreased from 0.3009854555130005 to 0.2974626421928406\n",
      " accuracy : 0.94\n",
      "\n",
      "epoch : 647/10000\n",
      "---------------------------------------------------\n",
      "Loss has decreased from 0.2974626421928406 to 0.29267868399620056\n",
      " accuracy : 0.9266666666666666\n",
      "\n",
      "epoch : 650/10000\n",
      "---------------------------------------------------\n",
      "Loss has decreased from 0.29267868399620056 to 0.2900941073894501\n",
      " accuracy : 0.9333333333333333\n",
      "\n",
      "epoch : 659/10000\n",
      "---------------------------------------------------\n",
      "Loss has decreased from 0.2900941073894501 to 0.2885743975639343\n",
      " accuracy : 0.93\n",
      "\n",
      "epoch : 660/10000\n",
      "---------------------------------------------------\n",
      "Loss has decreased from 0.2885743975639343 to 0.28694960474967957\n",
      " accuracy : 0.93\n",
      "\n",
      "epoch : 663/10000\n",
      "---------------------------------------------------\n",
      "Loss has decreased from 0.28694960474967957 to 0.28157374262809753\n",
      " accuracy : 0.9333333333333333\n",
      "\n",
      "epoch : 668/10000\n",
      "---------------------------------------------------\n",
      "Loss has decreased from 0.28157374262809753 to 0.2810510993003845\n",
      " accuracy : 0.9333333333333333\n",
      "\n",
      "epoch : 669/10000\n",
      "---------------------------------------------------\n",
      "Loss has decreased from 0.2810510993003845 to 0.2750184237957001\n",
      " accuracy : 0.9333333333333333\n",
      "\n",
      "epoch : 674/10000\n",
      "---------------------------------------------------\n",
      "Loss has decreased from 0.2750184237957001 to 0.27466848492622375\n",
      " accuracy : 0.9333333333333333\n",
      "\n",
      "epoch : 679/10000\n",
      "---------------------------------------------------\n",
      "Loss has decreased from 0.27466848492622375 to 0.27447760105133057\n",
      " accuracy : 0.93\n",
      "\n",
      "epoch : 682/10000\n",
      "---------------------------------------------------\n",
      "Loss has decreased from 0.27447760105133057 to 0.2715683579444885\n",
      " accuracy : 0.93\n",
      "\n",
      "epoch : 684/10000\n",
      "---------------------------------------------------\n",
      "Loss has decreased from 0.2715683579444885 to 0.2706676721572876\n",
      " accuracy : 0.9333333333333333\n",
      "\n",
      "epoch : 689/10000\n",
      "---------------------------------------------------\n",
      "Loss has decreased from 0.2706676721572876 to 0.2664332985877991\n",
      " accuracy : 0.9333333333333333\n",
      "\n",
      "epoch : 690/10000\n",
      "---------------------------------------------------\n",
      "Loss has decreased from 0.2664332985877991 to 0.2634735405445099\n",
      " accuracy : 0.93\n",
      "\n",
      "epoch : 692/10000\n",
      "---------------------------------------------------\n",
      "Loss has decreased from 0.2634735405445099 to 0.26114627718925476\n",
      " accuracy : 0.9333333333333333\n",
      "\n",
      "epoch : 705/10000\n",
      "---------------------------------------------------\n",
      "Loss has decreased from 0.26114627718925476 to 0.2605494558811188\n",
      " accuracy : 0.93\n",
      "\n",
      "epoch : 706/10000\n",
      "---------------------------------------------------\n",
      "Loss has decreased from 0.2605494558811188 to 0.26049214601516724\n",
      " accuracy : 0.9333333333333333\n",
      "\n",
      "epoch : 709/10000\n",
      "---------------------------------------------------\n",
      "Loss has decreased from 0.26049214601516724 to 0.26022523641586304\n",
      " accuracy : 0.93\n",
      "\n",
      "epoch : 711/10000\n",
      "---------------------------------------------------\n",
      "Loss has decreased from 0.26022523641586304 to 0.25456175208091736\n",
      " accuracy : 0.9333333333333333\n",
      "\n",
      "epoch : 721/10000\n",
      "---------------------------------------------------\n",
      "Loss has decreased from 0.25456175208091736 to 0.24992413818836212\n",
      " accuracy : 0.94\n",
      "\n",
      "epoch : 725/10000\n",
      "---------------------------------------------------\n",
      "Loss has decreased from 0.24992413818836212 to 0.24892084300518036\n",
      " accuracy : 0.94\n",
      "\n",
      "epoch : 729/10000\n",
      "---------------------------------------------------\n",
      "Loss has decreased from 0.24892084300518036 to 0.24884584546089172\n",
      " accuracy : 0.9366666666666666\n",
      "\n",
      "epoch : 736/10000\n",
      "---------------------------------------------------\n",
      "Loss has decreased from 0.24884584546089172 to 0.24850550293922424\n",
      " accuracy : 0.9333333333333333\n",
      "\n",
      "epoch : 737/10000\n",
      "---------------------------------------------------\n",
      "Loss has decreased from 0.24850550293922424 to 0.2476796954870224\n",
      " accuracy : 0.9333333333333333\n",
      "\n",
      "epoch : 738/10000\n",
      "---------------------------------------------------\n",
      "Loss has decreased from 0.2476796954870224 to 0.24747434258460999\n",
      " accuracy : 0.94\n",
      "\n",
      "epoch : 743/10000\n",
      "---------------------------------------------------\n",
      "Loss has decreased from 0.24747434258460999 to 0.24599331617355347\n",
      " accuracy : 0.9366666666666666\n",
      "\n",
      "epoch : 761/10000\n",
      "---------------------------------------------------\n",
      "Loss has decreased from 0.24599331617355347 to 0.2454686015844345\n",
      " accuracy : 0.9366666666666666\n",
      "\n",
      "epoch : 765/10000\n",
      "---------------------------------------------------\n",
      "Loss has decreased from 0.2454686015844345 to 0.24341008067131042\n",
      " accuracy : 0.9366666666666666\n",
      "\n",
      "epoch : 771/10000\n",
      "---------------------------------------------------\n",
      "Loss has decreased from 0.24341008067131042 to 0.23799259960651398\n",
      " accuracy : 0.9333333333333333\n",
      "\n",
      "epoch : 773/10000\n",
      "---------------------------------------------------\n",
      "Loss has decreased from 0.23799259960651398 to 0.23703700304031372\n",
      " accuracy : 0.9333333333333333\n",
      "\n",
      "epoch : 774/10000\n",
      "---------------------------------------------------\n",
      "Loss has decreased from 0.23703700304031372 to 0.2365409880876541\n",
      " accuracy : 0.9333333333333333\n",
      "\n",
      "epoch : 775/10000\n",
      "---------------------------------------------------\n",
      "Loss has decreased from 0.2365409880876541 to 0.23365528881549835\n",
      " accuracy : 0.9366666666666666\n",
      "\n",
      "epoch : 781/10000\n",
      "---------------------------------------------------\n",
      "Loss has decreased from 0.23365528881549835 to 0.23143041133880615\n",
      " accuracy : 0.9366666666666666\n",
      "\n",
      "epoch : 804/10000\n",
      "---------------------------------------------------\n",
      "Loss has decreased from 0.23143041133880615 to 0.23139630258083344\n",
      " accuracy : 0.94\n",
      "\n",
      "epoch : 806/10000\n",
      "---------------------------------------------------\n",
      "Loss has decreased from 0.23139630258083344 to 0.22772882878780365\n",
      " accuracy : 0.9366666666666666\n",
      "\n",
      "epoch : 813/10000\n",
      "---------------------------------------------------\n",
      "Loss has decreased from 0.22772882878780365 to 0.2255915254354477\n",
      " accuracy : 0.9366666666666666\n",
      "\n",
      "epoch : 819/10000\n",
      "---------------------------------------------------\n",
      "Loss has decreased from 0.2255915254354477 to 0.22350722551345825\n",
      " accuracy : 0.94\n",
      "\n",
      "epoch : 833/10000\n",
      "---------------------------------------------------\n",
      "Loss has decreased from 0.22350722551345825 to 0.22233746945858002\n",
      " accuracy : 0.93\n",
      "\n",
      "epoch : 837/10000\n",
      "---------------------------------------------------\n",
      "Loss has decreased from 0.22233746945858002 to 0.22083152830600739\n",
      " accuracy : 0.94\n",
      "\n",
      "epoch : 840/10000\n",
      "---------------------------------------------------\n",
      "Loss has decreased from 0.22083152830600739 to 0.2199133038520813\n",
      " accuracy : 0.9366666666666666\n",
      "\n",
      "epoch : 843/10000\n",
      "---------------------------------------------------\n",
      "Loss has decreased from 0.2199133038520813 to 0.21716532111167908\n",
      " accuracy : 0.94\n",
      "\n",
      "epoch : 845/10000\n",
      "---------------------------------------------------\n",
      "Loss has decreased from 0.21716532111167908 to 0.21666015684604645\n",
      " accuracy : 0.9366666666666666\n",
      "\n",
      "epoch : 851/10000\n",
      "---------------------------------------------------\n",
      "Loss has decreased from 0.21666015684604645 to 0.21366295218467712\n",
      " accuracy : 0.9366666666666666\n",
      "\n",
      "epoch : 863/10000\n",
      "---------------------------------------------------\n",
      "Loss has decreased from 0.21366295218467712 to 0.21081042289733887\n",
      " accuracy : 0.9366666666666666\n",
      "\n",
      "epoch : 866/10000\n",
      "---------------------------------------------------\n",
      "Loss has decreased from 0.21081042289733887 to 0.2062324583530426\n",
      " accuracy : 0.94\n",
      "\n",
      "epoch : 880/10000\n",
      "---------------------------------------------------\n",
      "Loss has decreased from 0.2062324583530426 to 0.2061583399772644\n",
      " accuracy : 0.9366666666666666\n",
      "\n",
      "epoch : 886/10000\n",
      "---------------------------------------------------\n",
      "Loss has decreased from 0.2061583399772644 to 0.20551706850528717\n",
      " accuracy : 0.9366666666666666\n",
      "\n",
      "epoch : 888/10000\n",
      "---------------------------------------------------\n",
      "Loss has decreased from 0.20551706850528717 to 0.2019050121307373\n",
      " accuracy : 0.9366666666666666\n",
      "\n",
      "epoch : 892/10000\n",
      "---------------------------------------------------\n",
      "Loss has decreased from 0.2019050121307373 to 0.20105379819869995\n",
      " accuracy : 0.9333333333333333\n",
      "\n",
      "epoch : 893/10000\n",
      "---------------------------------------------------\n",
      "Loss has decreased from 0.20105379819869995 to 0.19815552234649658\n",
      " accuracy : 0.9366666666666666\n",
      "\n",
      "epoch : 908/10000\n",
      "---------------------------------------------------\n",
      "Loss has decreased from 0.19815552234649658 to 0.19812025129795074\n",
      " accuracy : 0.9366666666666666\n",
      "\n",
      "epoch : 929/10000\n",
      "---------------------------------------------------\n",
      "Loss has decreased from 0.19812025129795074 to 0.19806373119354248\n",
      " accuracy : 0.9366666666666666\n",
      "\n",
      "epoch : 936/10000\n",
      "---------------------------------------------------\n",
      "Loss has decreased from 0.19806373119354248 to 0.19760695099830627\n",
      " accuracy : 0.9333333333333333\n",
      "\n",
      "epoch : 942/10000\n",
      "---------------------------------------------------\n",
      "Loss has decreased from 0.19760695099830627 to 0.194821298122406\n",
      " accuracy : 0.9333333333333333\n",
      "\n",
      "epoch : 945/10000\n",
      "---------------------------------------------------\n",
      "Loss has decreased from 0.194821298122406 to 0.19214612245559692\n",
      " accuracy : 0.94\n",
      "\n",
      "epoch : 951/10000\n",
      "---------------------------------------------------\n",
      "Loss has decreased from 0.19214612245559692 to 0.1916973739862442\n",
      " accuracy : 0.9366666666666666\n",
      "\n",
      "epoch : 952/10000\n",
      "---------------------------------------------------\n",
      "Loss has decreased from 0.1916973739862442 to 0.19077102839946747\n",
      " accuracy : 0.9366666666666666\n",
      "\n",
      "epoch : 954/10000\n",
      "---------------------------------------------------\n",
      "Loss has decreased from 0.19077102839946747 to 0.18967214226722717\n",
      " accuracy : 0.94\n",
      "\n",
      "epoch : 956/10000\n",
      "---------------------------------------------------\n",
      "Loss has decreased from 0.18967214226722717 to 0.18573066592216492\n",
      " accuracy : 0.94\n",
      "\n",
      "epoch : 958/10000\n",
      "---------------------------------------------------\n",
      "Loss has decreased from 0.18573066592216492 to 0.1850040853023529\n",
      " accuracy : 0.94\n",
      "\n",
      "epoch : 967/10000\n",
      "---------------------------------------------------\n",
      "Loss has decreased from 0.1850040853023529 to 0.18364758789539337\n",
      " accuracy : 0.9333333333333333\n",
      "\n",
      "epoch : 982/10000\n",
      "---------------------------------------------------\n",
      "Loss has decreased from 0.18364758789539337 to 0.18281620740890503\n",
      " accuracy : 0.9366666666666666\n",
      "\n",
      "epoch : 989/10000\n",
      "---------------------------------------------------\n",
      "Loss has decreased from 0.18281620740890503 to 0.1824779510498047\n",
      " accuracy : 0.9333333333333333\n",
      "\n",
      "epoch : 995/10000\n",
      "---------------------------------------------------\n",
      "Loss has decreased from 0.1824779510498047 to 0.1816554069519043\n",
      " accuracy : 0.94\n",
      "\n",
      "epoch : 998/10000\n",
      "---------------------------------------------------\n",
      "Loss has decreased from 0.1816554069519043 to 0.18161499500274658\n",
      " accuracy : 0.94\n",
      "\n",
      "epoch : 999/10000\n",
      "---------------------------------------------------\n",
      "Loss has decreased from 0.18161499500274658 to 0.18139198422431946\n",
      " accuracy : 0.94\n",
      "\n",
      "epoch : 1000/10000\n",
      "---------------------------------------------------\n",
      "Loss has decreased from 0.18139198422431946 to 0.18061533570289612\n",
      " accuracy : 0.9433333333333334\n",
      "\n",
      "epoch : 1004/10000\n",
      "---------------------------------------------------\n",
      "Loss has decreased from 0.18061533570289612 to 0.1799774318933487\n",
      " accuracy : 0.94\n",
      "\n",
      "epoch : 1005/10000\n",
      "---------------------------------------------------\n",
      "Loss has decreased from 0.1799774318933487 to 0.1791401356458664\n",
      " accuracy : 0.9366666666666666\n",
      "\n",
      "epoch : 1035/10000\n",
      "---------------------------------------------------\n",
      "Loss has decreased from 0.1791401356458664 to 0.17883598804473877\n",
      " accuracy : 0.94\n",
      "\n",
      "epoch : 1044/10000\n",
      "---------------------------------------------------\n",
      "Loss has decreased from 0.17883598804473877 to 0.17533601820468903\n",
      " accuracy : 0.9366666666666666\n",
      "\n",
      "epoch : 1047/10000\n",
      "---------------------------------------------------\n",
      "Loss has decreased from 0.17533601820468903 to 0.17388120293617249\n",
      " accuracy : 0.9366666666666666\n",
      "\n",
      "epoch : 1060/10000\n",
      "---------------------------------------------------\n",
      "Loss has decreased from 0.17388120293617249 to 0.17320755124092102\n",
      " accuracy : 0.9333333333333333\n",
      "\n",
      "epoch : 1086/10000\n",
      "---------------------------------------------------\n",
      "Loss has decreased from 0.17320755124092102 to 0.1730206459760666\n",
      " accuracy : 0.9366666666666666\n",
      "\n",
      "epoch : 1090/10000\n",
      "---------------------------------------------------\n",
      "Loss has decreased from 0.1730206459760666 to 0.17295801639556885\n",
      " accuracy : 0.9333333333333333\n",
      "\n",
      "epoch : 1091/10000\n",
      "---------------------------------------------------\n",
      "Loss has decreased from 0.17295801639556885 to 0.17267964780330658\n",
      " accuracy : 0.9333333333333333\n",
      "\n",
      "epoch : 1095/10000\n",
      "---------------------------------------------------\n",
      "Loss has decreased from 0.17267964780330658 to 0.1726222038269043\n",
      " accuracy : 0.9366666666666666\n",
      "\n",
      "epoch : 1102/10000\n",
      "---------------------------------------------------\n",
      "Loss has decreased from 0.1726222038269043 to 0.172432541847229\n",
      " accuracy : 0.9366666666666666\n",
      "\n",
      "epoch : 1111/10000\n",
      "---------------------------------------------------\n",
      "Loss has decreased from 0.172432541847229 to 0.1723032146692276\n",
      " accuracy : 0.93\n",
      "\n",
      "epoch : 1120/10000\n",
      "---------------------------------------------------\n",
      "Loss has decreased from 0.1723032146692276 to 0.17212529480457306\n",
      " accuracy : 0.9333333333333333\n",
      "\n",
      "epoch : 1122/10000\n",
      "---------------------------------------------------\n",
      "Loss has decreased from 0.17212529480457306 to 0.1713889241218567\n",
      " accuracy : 0.9366666666666666\n",
      "\n",
      "epoch : 1134/10000\n",
      "---------------------------------------------------\n",
      "Loss has decreased from 0.1713889241218567 to 0.17109599709510803\n",
      " accuracy : 0.94\n",
      "\n",
      "epoch : 1148/10000\n",
      "---------------------------------------------------\n",
      "Loss has decreased from 0.17109599709510803 to 0.16992147266864777\n",
      " accuracy : 0.9366666666666666\n",
      "\n",
      "epoch : 1154/10000\n",
      "---------------------------------------------------\n",
      "Loss has decreased from 0.16992147266864777 to 0.16812606155872345\n",
      " accuracy : 0.94\n",
      "\n",
      "epoch : 1169/10000\n",
      "---------------------------------------------------\n",
      "Loss has decreased from 0.16812606155872345 to 0.16746725142002106\n",
      " accuracy : 0.94\n",
      "\n",
      "epoch : 1178/10000\n",
      "---------------------------------------------------\n",
      "Loss has decreased from 0.16746725142002106 to 0.16626085340976715\n",
      " accuracy : 0.9366666666666666\n",
      "\n",
      "epoch : 1191/10000\n",
      "---------------------------------------------------\n",
      "Loss has decreased from 0.16626085340976715 to 0.16588298976421356\n",
      " accuracy : 0.9366666666666666\n",
      "\n",
      "epoch : 1205/10000\n",
      "---------------------------------------------------\n",
      "Loss has decreased from 0.16588298976421356 to 0.1653314232826233\n",
      " accuracy : 0.9366666666666666\n",
      "\n",
      "epoch : 1212/10000\n",
      "---------------------------------------------------\n",
      "Loss has decreased from 0.1653314232826233 to 0.16526639461517334\n",
      " accuracy : 0.9333333333333333\n",
      "\n",
      "epoch : 1213/10000\n",
      "---------------------------------------------------\n",
      "Loss has decreased from 0.16526639461517334 to 0.16451965272426605\n",
      " accuracy : 0.94\n",
      "\n",
      "epoch : 1218/10000\n",
      "---------------------------------------------------\n",
      "Loss has decreased from 0.16451965272426605 to 0.16244255006313324\n",
      " accuracy : 0.94\n",
      "\n",
      "epoch : 1234/10000\n",
      "---------------------------------------------------\n",
      "Loss has decreased from 0.16244255006313324 to 0.16209708154201508\n",
      " accuracy : 0.94\n",
      "\n",
      "epoch : 1237/10000\n",
      "---------------------------------------------------\n",
      "Loss has decreased from 0.16209708154201508 to 0.16172578930854797\n",
      " accuracy : 0.94\n",
      "\n",
      "epoch : 1241/10000\n",
      "---------------------------------------------------\n",
      "Loss has decreased from 0.16172578930854797 to 0.1598435789346695\n",
      " accuracy : 0.94\n",
      "\n",
      "epoch : 1245/10000\n",
      "---------------------------------------------------\n",
      "Loss has decreased from 0.1598435789346695 to 0.1581927090883255\n",
      " accuracy : 0.9333333333333333\n",
      "\n",
      "epoch : 1251/10000\n",
      "---------------------------------------------------\n",
      "Loss has decreased from 0.1581927090883255 to 0.15761210024356842\n",
      " accuracy : 0.9366666666666666\n",
      "\n",
      "epoch : 1253/10000\n",
      "---------------------------------------------------\n",
      "Loss has decreased from 0.15761210024356842 to 0.15756836533546448\n",
      " accuracy : 0.94\n",
      "\n",
      "epoch : 1266/10000\n",
      "---------------------------------------------------\n",
      "Loss has decreased from 0.15756836533546448 to 0.15731672942638397\n",
      " accuracy : 0.9366666666666666\n",
      "\n",
      "epoch : 1315/10000\n",
      "---------------------------------------------------\n",
      "Loss has decreased from 0.15731672942638397 to 0.15689200162887573\n",
      " accuracy : 0.94\n",
      "\n",
      "epoch : 1324/10000\n",
      "---------------------------------------------------\n",
      "Loss has decreased from 0.15689200162887573 to 0.1567409187555313\n",
      " accuracy : 0.9333333333333333\n",
      "\n",
      "epoch : 1370/10000\n",
      "---------------------------------------------------\n",
      "Loss has decreased from 0.1567409187555313 to 0.15651847422122955\n",
      " accuracy : 0.9366666666666666\n",
      "\n",
      "epoch : 1372/10000\n",
      "---------------------------------------------------\n",
      "Loss has decreased from 0.15651847422122955 to 0.15646260976791382\n",
      " accuracy : 0.9333333333333333\n",
      "\n",
      "epoch : 1375/10000\n",
      "---------------------------------------------------\n",
      "Loss has decreased from 0.15646260976791382 to 0.15474505722522736\n",
      " accuracy : 0.9333333333333333\n",
      "\n",
      "epoch : 1389/10000\n",
      "---------------------------------------------------\n",
      "Loss has decreased from 0.15474505722522736 to 0.15461234748363495\n",
      " accuracy : 0.9366666666666666\n",
      "\n",
      "epoch : 1416/10000\n",
      "---------------------------------------------------\n",
      "Loss has decreased from 0.15461234748363495 to 0.15386779606342316\n",
      " accuracy : 0.9366666666666666\n",
      "\n",
      "epoch : 1456/10000\n",
      "---------------------------------------------------\n",
      "Loss has decreased from 0.15386779606342316 to 0.15381932258605957\n",
      " accuracy : 0.9333333333333333\n",
      "\n",
      "epoch : 1459/10000\n",
      "---------------------------------------------------\n",
      "Loss has decreased from 0.15381932258605957 to 0.1532902717590332\n",
      " accuracy : 0.9366666666666666\n",
      "\n",
      "epoch : 1485/10000\n",
      "---------------------------------------------------\n",
      "Loss has decreased from 0.1532902717590332 to 0.15321685373783112\n",
      " accuracy : 0.9366666666666666\n",
      "\n",
      "epoch : 1543/10000\n",
      "---------------------------------------------------\n",
      "Loss has decreased from 0.15321685373783112 to 0.15308760106563568\n",
      " accuracy : 0.94\n",
      "\n",
      "epoch : 1549/10000\n",
      "---------------------------------------------------\n",
      "Loss has decreased from 0.15308760106563568 to 0.1530568152666092\n",
      " accuracy : 0.9366666666666666\n",
      "\n",
      "epoch : 1557/10000\n",
      "---------------------------------------------------\n",
      "Loss has decreased from 0.1530568152666092 to 0.15217521786689758\n",
      " accuracy : 0.94\n",
      "\n",
      "epoch : 1610/10000\n",
      "---------------------------------------------------\n",
      "Loss has decreased from 0.15217521786689758 to 0.15205174684524536\n",
      " accuracy : 0.9366666666666666\n",
      "\n",
      "epoch : 1621/10000\n",
      "---------------------------------------------------\n",
      "Loss has decreased from 0.15205174684524536 to 0.15193504095077515\n",
      " accuracy : 0.9366666666666666\n",
      "\n",
      "epoch : 1622/10000\n",
      "---------------------------------------------------\n",
      "Loss has decreased from 0.15193504095077515 to 0.15130358934402466\n",
      " accuracy : 0.9433333333333334\n",
      "\n",
      "epoch : 1691/10000\n",
      "---------------------------------------------------\n",
      "Loss has decreased from 0.15130358934402466 to 0.15066103637218475\n",
      " accuracy : 0.9366666666666666\n",
      "\n",
      "epoch : 1698/10000\n",
      "---------------------------------------------------\n",
      "Loss has decreased from 0.15066103637218475 to 0.15040908753871918\n",
      " accuracy : 0.9366666666666666\n",
      "\n",
      "epoch : 1741/10000\n",
      "---------------------------------------------------\n",
      "Loss has decreased from 0.15040908753871918 to 0.15011921525001526\n",
      " accuracy : 0.9433333333333334\n",
      "\n",
      "epoch : 1786/10000\n",
      "---------------------------------------------------\n",
      "Loss has decreased from 0.15011921525001526 to 0.1499747931957245\n",
      " accuracy : 0.9333333333333333\n",
      "\n",
      "epoch : 1800/10000\n",
      "---------------------------------------------------\n",
      "Loss has decreased from 0.1499747931957245 to 0.1489686369895935\n",
      " accuracy : 0.9366666666666666\n",
      "\n",
      "epoch : 1868/10000\n",
      "---------------------------------------------------\n",
      "Loss has decreased from 0.1489686369895935 to 0.1483270674943924\n",
      " accuracy : 0.9366666666666666\n",
      "\n",
      "epoch : 1873/10000\n",
      "---------------------------------------------------\n",
      "Loss has decreased from 0.1483270674943924 to 0.14801675081253052\n",
      " accuracy : 0.94\n",
      "\n",
      "epoch : 1877/10000\n",
      "---------------------------------------------------\n",
      "Loss has decreased from 0.14801675081253052 to 0.1478220671415329\n",
      " accuracy : 0.94\n",
      "\n",
      "epoch : 1895/10000\n",
      "---------------------------------------------------\n",
      "Loss has decreased from 0.1478220671415329 to 0.1475020796060562\n",
      " accuracy : 0.9366666666666666\n",
      "\n",
      "epoch : 1908/10000\n",
      "---------------------------------------------------\n",
      "Loss has decreased from 0.1475020796060562 to 0.14723379909992218\n",
      " accuracy : 0.9433333333333334\n",
      "\n",
      "epoch : 1922/10000\n",
      "---------------------------------------------------\n",
      "Loss has decreased from 0.14723379909992218 to 0.1472143679857254\n",
      " accuracy : 0.9366666666666666\n",
      "\n",
      "epoch : 1927/10000\n",
      "---------------------------------------------------\n",
      "Loss has decreased from 0.1472143679857254 to 0.14705578982830048\n",
      " accuracy : 0.9433333333333334\n",
      "\n",
      "epoch : 1930/10000\n",
      "---------------------------------------------------\n",
      "Loss has decreased from 0.14705578982830048 to 0.1469416469335556\n",
      " accuracy : 0.9366666666666666\n",
      "\n",
      "epoch : 1949/10000\n",
      "---------------------------------------------------\n",
      "Loss has decreased from 0.1469416469335556 to 0.14693382382392883\n",
      " accuracy : 0.94\n",
      "\n",
      "epoch : 1957/10000\n",
      "---------------------------------------------------\n",
      "Loss has decreased from 0.14693382382392883 to 0.146169051527977\n",
      " accuracy : 0.94\n",
      "\n",
      "epoch : 1980/10000\n",
      "---------------------------------------------------\n",
      "Loss has decreased from 0.146169051527977 to 0.1458968222141266\n",
      " accuracy : 0.94\n",
      "\n",
      "epoch : 2027/10000\n",
      "---------------------------------------------------\n",
      "Loss has decreased from 0.1458968222141266 to 0.14578869938850403\n",
      " accuracy : 0.94\n",
      "\n",
      "epoch : 2103/10000\n",
      "---------------------------------------------------\n",
      "Loss has decreased from 0.14578869938850403 to 0.14541614055633545\n",
      " accuracy : 0.94\n",
      "\n",
      "epoch : 2269/10000\n",
      "---------------------------------------------------\n",
      "Loss has decreased from 0.14541614055633545 to 0.14533619582653046\n",
      " accuracy : 0.9366666666666666\n",
      "\n",
      "epoch : 2276/10000\n",
      "---------------------------------------------------\n",
      "Loss has decreased from 0.14533619582653046 to 0.14527451992034912\n",
      " accuracy : 0.9433333333333334\n",
      "\n",
      "epoch : 2278/10000\n",
      "---------------------------------------------------\n",
      "Loss has decreased from 0.14527451992034912 to 0.14502650499343872\n",
      " accuracy : 0.9366666666666666\n",
      "\n",
      "epoch : 2281/10000\n",
      "---------------------------------------------------\n",
      "Loss has decreased from 0.14502650499343872 to 0.1450129896402359\n",
      " accuracy : 0.94\n",
      "\n",
      "epoch : 2480/10000\n",
      "---------------------------------------------------\n",
      "Loss has decreased from 0.1450129896402359 to 0.14492399990558624\n",
      " accuracy : 0.94\n",
      "\n",
      "epoch : 2494/10000\n",
      "---------------------------------------------------\n",
      "Loss has decreased from 0.14492399990558624 to 0.14479300379753113\n",
      " accuracy : 0.94\n",
      "\n",
      "epoch : 2578/10000\n",
      "---------------------------------------------------\n",
      "Loss has decreased from 0.14479300379753113 to 0.1447700560092926\n",
      " accuracy : 0.9366666666666666\n",
      "\n",
      "epoch : 2598/10000\n",
      "---------------------------------------------------\n",
      "Loss has decreased from 0.1447700560092926 to 0.14476096630096436\n",
      " accuracy : 0.94\n",
      "\n",
      "epoch : 2642/10000\n",
      "---------------------------------------------------\n",
      "Loss has decreased from 0.14476096630096436 to 0.1444563865661621\n",
      " accuracy : 0.9433333333333334\n",
      "\n",
      "epoch : 2644/10000\n",
      "---------------------------------------------------\n",
      "Loss has decreased from 0.1444563865661621 to 0.1444481760263443\n",
      " accuracy : 0.94\n",
      "\n",
      "epoch : 2670/10000\n",
      "---------------------------------------------------\n",
      "Loss has decreased from 0.1444481760263443 to 0.14412851631641388\n",
      " accuracy : 0.94\n",
      "\n",
      "epoch : 2937/10000\n",
      "---------------------------------------------------\n",
      "Loss has decreased from 0.14412851631641388 to 0.14376898109912872\n",
      " accuracy : 0.94\n",
      "\n",
      "epoch : 2986/10000\n",
      "---------------------------------------------------\n",
      "Loss has decreased from 0.14376898109912872 to 0.14342015981674194\n",
      " accuracy : 0.9433333333333334\n",
      "\n",
      "epoch : 2993/10000\n",
      "---------------------------------------------------\n",
      "Loss has decreased from 0.14342015981674194 to 0.14337842166423798\n",
      " accuracy : 0.9433333333333334\n",
      "\n",
      "epoch : 3193/10000\n",
      "---------------------------------------------------\n",
      "Loss has decreased from 0.14337842166423798 to 0.14330461621284485\n",
      " accuracy : 0.9433333333333334\n",
      "\n",
      "epoch : 3219/10000\n",
      "---------------------------------------------------\n",
      "Loss has decreased from 0.14330461621284485 to 0.1431080847978592\n",
      " accuracy : 0.9433333333333334\n",
      "\n",
      "epoch : 3239/10000\n",
      "---------------------------------------------------\n",
      "Loss has decreased from 0.1431080847978592 to 0.14307421445846558\n",
      " accuracy : 0.94\n",
      "\n",
      "epoch : 3253/10000\n",
      "---------------------------------------------------\n",
      "Loss has decreased from 0.14307421445846558 to 0.14302939176559448\n",
      " accuracy : 0.94\n",
      "\n",
      "epoch : 3349/10000\n",
      "---------------------------------------------------\n",
      "Loss has decreased from 0.14302939176559448 to 0.1429726928472519\n",
      " accuracy : 0.94\n",
      "\n",
      "epoch : 3376/10000\n",
      "---------------------------------------------------\n",
      "Loss has decreased from 0.1429726928472519 to 0.1429166942834854\n",
      " accuracy : 0.9366666666666666\n",
      "\n",
      "epoch : 3379/10000\n",
      "---------------------------------------------------\n",
      "Loss has decreased from 0.1429166942834854 to 0.14285631477832794\n",
      " accuracy : 0.9433333333333334\n",
      "\n",
      "epoch : 3433/10000\n",
      "---------------------------------------------------\n",
      "Loss has decreased from 0.14285631477832794 to 0.14281809329986572\n",
      " accuracy : 0.94\n",
      "\n",
      "epoch : 3457/10000\n",
      "---------------------------------------------------\n",
      "Loss has decreased from 0.14281809329986572 to 0.14277306199073792\n",
      " accuracy : 0.9433333333333334\n",
      "\n",
      "epoch : 3466/10000\n",
      "---------------------------------------------------\n",
      "Loss has decreased from 0.14277306199073792 to 0.14270123839378357\n",
      " accuracy : 0.9433333333333334\n",
      "\n",
      "epoch : 3687/10000\n",
      "---------------------------------------------------\n",
      "Loss has decreased from 0.14270123839378357 to 0.14265838265419006\n",
      " accuracy : 0.94\n",
      "\n",
      "epoch : 3759/10000\n",
      "---------------------------------------------------\n",
      "Loss has decreased from 0.14265838265419006 to 0.14264041185379028\n",
      " accuracy : 0.9366666666666666\n",
      "\n",
      "epoch : 3933/10000\n",
      "---------------------------------------------------\n",
      "Loss has decreased from 0.14264041185379028 to 0.14260990917682648\n",
      " accuracy : 0.94\n",
      "\n",
      "epoch : 4142/10000\n",
      "---------------------------------------------------\n",
      "Loss has decreased from 0.14260990917682648 to 0.14238093793392181\n",
      " accuracy : 0.9366666666666666\n",
      "\n",
      "epoch : 4295/10000\n",
      "---------------------------------------------------\n",
      "Loss has decreased from 0.14238093793392181 to 0.14237548410892487\n",
      " accuracy : 0.9466666666666667\n",
      "\n",
      "epoch : 4299/10000\n",
      "---------------------------------------------------\n",
      "Loss has decreased from 0.14237548410892487 to 0.1421678513288498\n",
      " accuracy : 0.9466666666666667\n",
      "\n",
      "epoch : 4326/10000\n",
      "---------------------------------------------------\n",
      "Loss has decreased from 0.1421678513288498 to 0.1421452909708023\n",
      " accuracy : 0.94\n",
      "\n",
      "epoch : 4339/10000\n",
      "---------------------------------------------------\n",
      "Loss has decreased from 0.1421452909708023 to 0.14203768968582153\n",
      " accuracy : 0.94\n",
      "\n",
      "epoch : 4554/10000\n",
      "---------------------------------------------------\n",
      "Loss has decreased from 0.14203768968582153 to 0.14199963212013245\n",
      " accuracy : 0.94\n",
      "\n",
      "epoch : 4610/10000\n",
      "---------------------------------------------------\n",
      "Loss has decreased from 0.14199963212013245 to 0.14188629388809204\n",
      " accuracy : 0.9466666666666667\n",
      "\n",
      "epoch : 4825/10000\n",
      "---------------------------------------------------\n",
      "Loss has decreased from 0.14188629388809204 to 0.1418812870979309\n",
      " accuracy : 0.9466666666666667\n",
      "\n",
      "epoch : 4846/10000\n",
      "---------------------------------------------------\n",
      "Loss has decreased from 0.1418812870979309 to 0.14180338382720947\n",
      " accuracy : 0.9466666666666667\n",
      "\n",
      "epoch : 5008/10000\n",
      "---------------------------------------------------\n",
      "Loss has decreased from 0.14180338382720947 to 0.14173036813735962\n",
      " accuracy : 0.9466666666666667\n",
      "\n",
      "epoch : 5640/10000\n",
      "---------------------------------------------------\n",
      "Loss has decreased from 0.14173036813735962 to 0.14169710874557495\n",
      " accuracy : 0.9466666666666667\n",
      "\n",
      "epoch : 6095/10000\n",
      "---------------------------------------------------\n",
      "Loss has decreased from 0.14169710874557495 to 0.14163680374622345\n",
      " accuracy : 0.9466666666666667\n",
      "\n",
      "epoch : 6590/10000\n",
      "---------------------------------------------------\n",
      "Loss has decreased from 0.14163680374622345 to 0.14160729944705963\n",
      " accuracy : 0.9433333333333334\n",
      "\n",
      "epoch : 6707/10000\n",
      "---------------------------------------------------\n",
      "Loss has decreased from 0.14160729944705963 to 0.14158615469932556\n",
      " accuracy : 0.9466666666666667\n",
      "\n",
      "epoch : 7255/10000\n",
      "---------------------------------------------------\n",
      "Loss has decreased from 0.14158615469932556 to 0.14157038927078247\n",
      " accuracy : 0.9466666666666667\n",
      "\n",
      "epoch : 7272/10000\n",
      "---------------------------------------------------\n",
      "Loss has decreased from 0.14157038927078247 to 0.14156953990459442\n",
      " accuracy : 0.9466666666666667\n",
      "\n",
      "epoch : 7368/10000\n",
      "---------------------------------------------------\n",
      "Loss has decreased from 0.14156953990459442 to 0.1415189653635025\n",
      " accuracy : 0.9466666666666667\n",
      "\n",
      "epoch : 8220/10000\n",
      "---------------------------------------------------\n",
      "Loss has decreased from 0.1415189653635025 to 0.14142321050167084\n",
      " accuracy : 0.9466666666666667\n",
      "\n"
     ]
    }
   ],
   "source": [
    "epochs = 10000\n",
    "hidden_layer_nodes = 3\n",
    "lowest_loss = 99999\n",
    "dense_1 = Dense_Layer(2, hidden_layer_nodes)\n",
    "relu_1 = ReLU_Activation()\n",
    "dense_2 = Dense_Layer(hidden_layer_nodes, 3)\n",
    "softmax_1 = Softmax_Activation()\n",
    "lossfunc = CategoricalCrossentropy()\n",
    "\n",
    "for _ in range(epochs):\n",
    "    dense_1.weights += 0.05 * np.random.randn(*dense_1.weights.shape)\n",
    "    dense_1.biases += 0.05 * np.random.randn(*dense_1.biases.shape)\n",
    "    dense_2.weights += 0.05 * np.random.randn(*dense_2.weights.shape)\n",
    "    dense_2.biases += 0.05 * np.random.randn(*dense_2.biases.shape)\n",
    "     \n",
    "    dense_1.forward(X)\n",
    "    relu_1.forward(dense_1.output)\n",
    "    dense_2.forward(relu_1.output)\n",
    "    softmax_1.forward(dense_2.output)\n",
    "    loss = lossfunc.calculate(softmax_1.output, y)\n",
    "    acc = accuracy(softmax_1.output, y)\n",
    "\n",
    "    if loss < lowest_loss:\n",
    "        print(f'epoch : {_ + 1}/{epochs}\\n---------------------------------------------------\\nLoss has decreased from {lowest_loss} to {loss}\\n accuracy : {acc}')\n",
    "        lowest_loss = loss\n",
    "        dense_1_weights = dense_1.weights.copy()\n",
    "        dense_1_biases = dense_1.biases.copy()\n",
    "        dense_2_weights = dense_2.weights.copy()\n",
    "        dense_2_biases = dense_2.biases.copy()\n",
    "        print('')\n",
    "    else:\n",
    "        dense_1.weights = dense_1_weights.copy()\n",
    "        dense_1.biases = dense_1_biases.copy()\n",
    "        dense_2.weights = dense_2_weights.copy()\n",
    "        dense_2.biases = dense_2_biases.copy()"
   ]
  },
  {
   "cell_type": "code",
   "execution_count": 57,
   "metadata": {},
   "outputs": [
    {
     "data": {
      "image/png": "[encoded data removed]",
      "text/plain": [
       "<Figure size 640x480 with 1 Axes>"
      ]
     },
     "metadata": {},
     "output_type": "display_data"
    }
   ],
   "source": [
    "def plot_preds_1():\n",
    "    ymi, yma, xmi, xma = X.transpose()[1].min() - 0.1, X.transpose()[1].max() + 0.1,X.transpose()[0].min()- 0.1, X.transpose()[0].max() + 0.1\n",
    "    a = np.linspace(xmi,xma, 2000)\n",
    "    b = np.linspace(ymi,yma, 2000)\n",
    "    xx,yy = np.meshgrid(a,b)\n",
    "    data = np.c_[xx.ravel(),yy.ravel()]\n",
    "    dense_1.forward(data)\n",
    "    relu_1.forward(dense_1.output)\n",
    "    dense_2.forward(relu_1.output)\n",
    "    softmax_1.forward(dense_2.output)\n",
    "    preders = np.argmax(softmax_1.output, axis=1)\n",
    "    plt.figure()\n",
    "    plt.contourf(xx,yy, preders.reshape((2000,2000)),cmap=plt.cm.gist_rainbow, alpha = 0.3)\n",
    "    plt.scatter(X.transpose()[0],X.transpose()[1], c = y, cmap=plt.cm.gist_rainbow,alpha=1)\n",
    "    plt.title('Decision boundary learned by model')\n",
    "    plt.axis(False)\n",
    "    plt.show()\n",
    "plot_preds_1()"
   ]
  },
  {
   "cell_type": "markdown",
   "metadata": {},
   "source": [
    "### Trying this with spiral data"
   ]
  },
  {
   "cell_type": "code",
   "execution_count": 58,
   "metadata": {},
   "outputs": [
    {
     "data": {
      "image/png": "[encoded data removed]",
      "text/plain": [
       "<Figure size 400x400 with 1 Axes>"
      ]
     },
     "metadata": {},
     "output_type": "display_data"
    },
    {
     "name": "stdout",
     "output_type": "stream",
     "text": [
      "epoch : 1/10000\n",
      "---------------------------------------------------\n",
      "Loss has decreased from 99999 to 1.1012063026428223\n",
      " accuracy : 0.3333333333333333\n",
      "\n",
      "epoch : 2/10000\n",
      "---------------------------------------------------\n",
      "Loss has decreased from 1.1012063026428223 to 1.098899245262146\n",
      " accuracy : 0.35333333333333333\n",
      "\n",
      "epoch : 5/10000\n",
      "---------------------------------------------------\n",
      "Loss has decreased from 1.098899245262146 to 1.0984879732131958\n",
      " accuracy : 0.3333333333333333\n",
      "\n",
      "epoch : 8/10000\n",
      "---------------------------------------------------\n",
      "Loss has decreased from 1.0984879732131958 to 1.0981206893920898\n",
      " accuracy : 0.35\n",
      "\n",
      "epoch : 11/10000\n",
      "---------------------------------------------------\n",
      "Loss has decreased from 1.0981206893920898 to 1.0980405807495117\n",
      " accuracy : 0.35\n",
      "\n",
      "epoch : 13/10000\n",
      "---------------------------------------------------\n",
      "Loss has decreased from 1.0980405807495117 to 1.0971252918243408\n",
      " accuracy : 0.37333333333333335\n",
      "\n",
      "epoch : 19/10000\n",
      "---------------------------------------------------\n",
      "Loss has decreased from 1.0971252918243408 to 1.0965760946273804\n",
      " accuracy : 0.3566666666666667\n",
      "\n",
      "epoch : 22/10000\n",
      "---------------------------------------------------\n",
      "Loss has decreased from 1.0965760946273804 to 1.0960222482681274\n",
      " accuracy : 0.3333333333333333\n",
      "\n",
      "epoch : 25/10000\n",
      "---------------------------------------------------\n",
      "Loss has decreased from 1.0960222482681274 to 1.094862699508667\n",
      " accuracy : 0.3433333333333333\n",
      "\n",
      "epoch : 26/10000\n",
      "---------------------------------------------------\n",
      "Loss has decreased from 1.094862699508667 to 1.0927903652191162\n",
      " accuracy : 0.37666666666666665\n",
      "\n",
      "epoch : 27/10000\n",
      "---------------------------------------------------\n",
      "Loss has decreased from 1.0927903652191162 to 1.0919647216796875\n",
      " accuracy : 0.34\n",
      "\n",
      "epoch : 30/10000\n",
      "---------------------------------------------------\n",
      "Loss has decreased from 1.0919647216796875 to 1.0911314487457275\n",
      " accuracy : 0.4266666666666667\n",
      "\n",
      "epoch : 37/10000\n",
      "---------------------------------------------------\n",
      "Loss has decreased from 1.0911314487457275 to 1.0907716751098633\n",
      " accuracy : 0.37\n",
      "\n",
      "epoch : 44/10000\n",
      "---------------------------------------------------\n",
      "Loss has decreased from 1.0907716751098633 to 1.090576410293579\n",
      " accuracy : 0.39666666666666667\n",
      "\n",
      "epoch : 45/10000\n",
      "---------------------------------------------------\n",
      "Loss has decreased from 1.090576410293579 to 1.089700698852539\n",
      " accuracy : 0.38666666666666666\n",
      "\n",
      "epoch : 51/10000\n",
      "---------------------------------------------------\n",
      "Loss has decreased from 1.089700698852539 to 1.0894761085510254\n",
      " accuracy : 0.37666666666666665\n",
      "\n",
      "epoch : 56/10000\n",
      "---------------------------------------------------\n",
      "Loss has decreased from 1.0894761085510254 to 1.0894696712493896\n",
      " accuracy : 0.35\n",
      "\n",
      "epoch : 88/10000\n",
      "---------------------------------------------------\n",
      "Loss has decreased from 1.0894696712493896 to 1.0888381004333496\n",
      " accuracy : 0.43\n",
      "\n",
      "epoch : 96/10000\n",
      "---------------------------------------------------\n",
      "Loss has decreased from 1.0888381004333496 to 1.0875635147094727\n",
      " accuracy : 0.38666666666666666\n",
      "\n",
      "epoch : 97/10000\n",
      "---------------------------------------------------\n",
      "Loss has decreased from 1.0875635147094727 to 1.0864648818969727\n",
      " accuracy : 0.37333333333333335\n",
      "\n",
      "epoch : 104/10000\n",
      "---------------------------------------------------\n",
      "Loss has decreased from 1.0864648818969727 to 1.0860693454742432\n",
      " accuracy : 0.37666666666666665\n",
      "\n",
      "epoch : 105/10000\n",
      "---------------------------------------------------\n",
      "Loss has decreased from 1.0860693454742432 to 1.0838735103607178\n",
      " accuracy : 0.36333333333333334\n",
      "\n",
      "epoch : 112/10000\n",
      "---------------------------------------------------\n",
      "Loss has decreased from 1.0838735103607178 to 1.0835939645767212\n",
      " accuracy : 0.4\n",
      "\n",
      "epoch : 115/10000\n",
      "---------------------------------------------------\n",
      "Loss has decreased from 1.0835939645767212 to 1.0822056531906128\n",
      " accuracy : 0.4166666666666667\n",
      "\n",
      "epoch : 135/10000\n",
      "---------------------------------------------------\n",
      "Loss has decreased from 1.0822056531906128 to 1.0819541215896606\n",
      " accuracy : 0.4033333333333333\n",
      "\n",
      "epoch : 140/10000\n",
      "---------------------------------------------------\n",
      "Loss has decreased from 1.0819541215896606 to 1.081825613975525\n",
      " accuracy : 0.42333333333333334\n",
      "\n",
      "epoch : 144/10000\n",
      "---------------------------------------------------\n",
      "Loss has decreased from 1.081825613975525 to 1.0815740823745728\n",
      " accuracy : 0.4166666666666667\n",
      "\n",
      "epoch : 149/10000\n",
      "---------------------------------------------------\n",
      "Loss has decreased from 1.0815740823745728 to 1.0802171230316162\n",
      " accuracy : 0.41\n",
      "\n",
      "epoch : 157/10000\n",
      "---------------------------------------------------\n",
      "Loss has decreased from 1.0802171230316162 to 1.079002022743225\n",
      " accuracy : 0.4066666666666667\n",
      "\n",
      "epoch : 162/10000\n",
      "---------------------------------------------------\n",
      "Loss has decreased from 1.079002022743225 to 1.0786534547805786\n",
      " accuracy : 0.39\n",
      "\n",
      "epoch : 171/10000\n",
      "---------------------------------------------------\n",
      "Loss has decreased from 1.0786534547805786 to 1.0780973434448242\n",
      " accuracy : 0.42\n",
      "\n",
      "epoch : 205/10000\n",
      "---------------------------------------------------\n",
      "Loss has decreased from 1.0780973434448242 to 1.0776091814041138\n",
      " accuracy : 0.41\n",
      "\n",
      "epoch : 212/10000\n",
      "---------------------------------------------------\n",
      "Loss has decreased from 1.0776091814041138 to 1.0774449110031128\n",
      " accuracy : 0.4066666666666667\n",
      "\n",
      "epoch : 215/10000\n",
      "---------------------------------------------------\n",
      "Loss has decreased from 1.0774449110031128 to 1.0765948295593262\n",
      " accuracy : 0.42\n",
      "\n",
      "epoch : 243/10000\n",
      "---------------------------------------------------\n",
      "Loss has decreased from 1.0765948295593262 to 1.0761957168579102\n",
      " accuracy : 0.38666666666666666\n",
      "\n",
      "epoch : 251/10000\n",
      "---------------------------------------------------\n",
      "Loss has decreased from 1.0761957168579102 to 1.0758744478225708\n",
      " accuracy : 0.4266666666666667\n",
      "\n",
      "epoch : 320/10000\n",
      "---------------------------------------------------\n",
      "Loss has decreased from 1.0758744478225708 to 1.0755658149719238\n",
      " accuracy : 0.42\n",
      "\n",
      "epoch : 322/10000\n",
      "---------------------------------------------------\n",
      "Loss has decreased from 1.0755658149719238 to 1.0752463340759277\n",
      " accuracy : 0.4\n",
      "\n",
      "epoch : 350/10000\n",
      "---------------------------------------------------\n",
      "Loss has decreased from 1.0752463340759277 to 1.0749765634536743\n",
      " accuracy : 0.42333333333333334\n",
      "\n",
      "epoch : 415/10000\n",
      "---------------------------------------------------\n",
      "Loss has decreased from 1.0749765634536743 to 1.0749263763427734\n",
      " accuracy : 0.41333333333333333\n",
      "\n",
      "epoch : 417/10000\n",
      "---------------------------------------------------\n",
      "Loss has decreased from 1.0749263763427734 to 1.074787974357605\n",
      " accuracy : 0.4033333333333333\n",
      "\n",
      "epoch : 741/10000\n",
      "---------------------------------------------------\n",
      "Loss has decreased from 1.074787974357605 to 1.07477605342865\n",
      " accuracy : 0.4\n",
      "\n",
      "epoch : 768/10000\n",
      "---------------------------------------------------\n",
      "Loss has decreased from 1.07477605342865 to 1.074715495109558\n",
      " accuracy : 0.4166666666666667\n",
      "\n",
      "epoch : 983/10000\n",
      "---------------------------------------------------\n",
      "Loss has decreased from 1.074715495109558 to 1.0746814012527466\n",
      " accuracy : 0.4066666666666667\n",
      "\n",
      "epoch : 1240/10000\n",
      "---------------------------------------------------\n",
      "Loss has decreased from 1.0746814012527466 to 1.074612021446228\n",
      " accuracy : 0.4033333333333333\n",
      "\n",
      "epoch : 1282/10000\n",
      "---------------------------------------------------\n",
      "Loss has decreased from 1.074612021446228 to 1.0743951797485352\n",
      " accuracy : 0.4\n",
      "\n",
      "epoch : 1670/10000\n",
      "---------------------------------------------------\n",
      "Loss has decreased from 1.0743951797485352 to 1.074377179145813\n",
      " accuracy : 0.39666666666666667\n",
      "\n",
      "epoch : 1962/10000\n",
      "---------------------------------------------------\n",
      "Loss has decreased from 1.074377179145813 to 1.0741380453109741\n",
      " accuracy : 0.4066666666666667\n",
      "\n",
      "epoch : 2002/10000\n",
      "---------------------------------------------------\n",
      "Loss has decreased from 1.0741380453109741 to 1.0741143226623535\n",
      " accuracy : 0.4166666666666667\n",
      "\n",
      "epoch : 2123/10000\n",
      "---------------------------------------------------\n",
      "Loss has decreased from 1.0741143226623535 to 1.0739428997039795\n",
      " accuracy : 0.42\n",
      "\n",
      "epoch : 2223/10000\n",
      "---------------------------------------------------\n",
      "Loss has decreased from 1.0739428997039795 to 1.0737621784210205\n",
      " accuracy : 0.4266666666666667\n",
      "\n",
      "epoch : 2369/10000\n",
      "---------------------------------------------------\n",
      "Loss has decreased from 1.0737621784210205 to 1.0737168788909912\n",
      " accuracy : 0.39666666666666667\n",
      "\n",
      "epoch : 3439/10000\n",
      "---------------------------------------------------\n",
      "Loss has decreased from 1.0737168788909912 to 1.0734975337982178\n",
      " accuracy : 0.39666666666666667\n",
      "\n",
      "epoch : 4139/10000\n",
      "---------------------------------------------------\n",
      "Loss has decreased from 1.0734975337982178 to 1.0733611583709717\n",
      " accuracy : 0.41333333333333333\n",
      "\n",
      "epoch : 4526/10000\n",
      "---------------------------------------------------\n",
      "Loss has decreased from 1.0733611583709717 to 1.0729541778564453\n",
      " accuracy : 0.39666666666666667\n",
      "\n",
      "epoch : 4866/10000\n",
      "---------------------------------------------------\n",
      "Loss has decreased from 1.0729541778564453 to 1.0729418992996216\n",
      " accuracy : 0.41333333333333333\n",
      "\n",
      "epoch : 4998/10000\n",
      "---------------------------------------------------\n",
      "Loss has decreased from 1.0729418992996216 to 1.0729212760925293\n",
      " accuracy : 0.39666666666666667\n",
      "\n",
      "epoch : 5007/10000\n",
      "---------------------------------------------------\n",
      "Loss has decreased from 1.0729212760925293 to 1.0728201866149902\n",
      " accuracy : 0.4066666666666667\n",
      "\n",
      "epoch : 5190/10000\n",
      "---------------------------------------------------\n",
      "Loss has decreased from 1.0728201866149902 to 1.0728181600570679\n",
      " accuracy : 0.42\n",
      "\n",
      "epoch : 5322/10000\n",
      "---------------------------------------------------\n",
      "Loss has decreased from 1.0728181600570679 to 1.0727953910827637\n",
      " accuracy : 0.4266666666666667\n",
      "\n",
      "epoch : 5324/10000\n",
      "---------------------------------------------------\n",
      "Loss has decreased from 1.0727953910827637 to 1.0725815296173096\n",
      " accuracy : 0.41333333333333333\n",
      "\n",
      "epoch : 5335/10000\n",
      "---------------------------------------------------\n",
      "Loss has decreased from 1.0725815296173096 to 1.0725332498550415\n",
      " accuracy : 0.41333333333333333\n",
      "\n",
      "epoch : 5723/10000\n",
      "---------------------------------------------------\n",
      "Loss has decreased from 1.0725332498550415 to 1.0724018812179565\n",
      " accuracy : 0.4066666666666667\n",
      "\n",
      "epoch : 5788/10000\n",
      "---------------------------------------------------\n",
      "Loss has decreased from 1.0724018812179565 to 1.0722426176071167\n",
      " accuracy : 0.4266666666666667\n",
      "\n",
      "epoch : 5846/10000\n",
      "---------------------------------------------------\n",
      "Loss has decreased from 1.0722426176071167 to 1.072191596031189\n",
      " accuracy : 0.42333333333333334\n",
      "\n",
      "epoch : 6146/10000\n",
      "---------------------------------------------------\n",
      "Loss has decreased from 1.072191596031189 to 1.071804404258728\n",
      " accuracy : 0.41333333333333333\n",
      "\n",
      "epoch : 6529/10000\n",
      "---------------------------------------------------\n",
      "Loss has decreased from 1.071804404258728 to 1.071792483329773\n",
      " accuracy : 0.4066666666666667\n",
      "\n",
      "epoch : 7170/10000\n",
      "---------------------------------------------------\n",
      "Loss has decreased from 1.071792483329773 to 1.071675419807434\n",
      " accuracy : 0.4066666666666667\n",
      "\n",
      "epoch : 7366/10000\n",
      "---------------------------------------------------\n",
      "Loss has decreased from 1.071675419807434 to 1.0716713666915894\n",
      " accuracy : 0.4266666666666667\n",
      "\n",
      "epoch : 7428/10000\n",
      "---------------------------------------------------\n",
      "Loss has decreased from 1.0716713666915894 to 1.0716480016708374\n",
      " accuracy : 0.4266666666666667\n",
      "\n",
      "epoch : 7477/10000\n",
      "---------------------------------------------------\n",
      "Loss has decreased from 1.0716480016708374 to 1.071106195449829\n",
      " accuracy : 0.4\n",
      "\n",
      "epoch : 7544/10000\n",
      "---------------------------------------------------\n",
      "Loss has decreased from 1.071106195449829 to 1.0709419250488281\n",
      " accuracy : 0.4066666666666667\n",
      "\n",
      "epoch : 7693/10000\n",
      "---------------------------------------------------\n",
      "Loss has decreased from 1.0709419250488281 to 1.0707454681396484\n",
      " accuracy : 0.42333333333333334\n",
      "\n",
      "epoch : 7819/10000\n",
      "---------------------------------------------------\n",
      "Loss has decreased from 1.0707454681396484 to 1.0702189207077026\n",
      " accuracy : 0.42333333333333334\n",
      "\n"
     ]
    },
    {
     "data": {
      "image/png": "[encoded data removed]",
      "text/plain": [
       "<Figure size 640x480 with 1 Axes>"
      ]
     },
     "metadata": {},
     "output_type": "display_data"
    }
   ],
   "source": [
    "X, y = spiral_data(samples=100, classes=3)\n",
    "plt.figure(figsize=(4,4))\n",
    "plt.scatter(X[:,0], X[:,1], c = y, cmap=plt.cm.gist_rainbow)\n",
    "plt.xticks()\n",
    "plt.yticks()\n",
    "plt.show()\n",
    "\n",
    "epochs = 10000\n",
    "hidden_layer_nodes = 3\n",
    "lowest_loss = 99999\n",
    "dense_1 = Dense_Layer(2, hidden_layer_nodes)\n",
    "relu_1 = ReLU_Activation()\n",
    "dense_2 = Dense_Layer(hidden_layer_nodes, 3)\n",
    "softmax_1 = Softmax_Activation()\n",
    "lossfunc = CategoricalCrossentropy()\n",
    "\n",
    "for _ in range(epochs):\n",
    "    dense_1.weights += 0.05 * np.random.randn(*dense_1.weights.shape)\n",
    "    dense_1.biases += 0.05 * np.random.randn(*dense_1.biases.shape)\n",
    "    dense_2.weights += 0.05 * np.random.randn(*dense_2.weights.shape)\n",
    "    dense_2.biases += 0.05 * np.random.randn(*dense_2.biases.shape)\n",
    "     \n",
    "    dense_1.forward(X)\n",
    "    relu_1.forward(dense_1.output)\n",
    "    dense_2.forward(relu_1.output)\n",
    "    softmax_1.forward(dense_2.output)\n",
    "    loss = lossfunc.calculate(softmax_1.output, y)\n",
    "    acc = accuracy(softmax_1.output, y)\n",
    "\n",
    "    if loss < lowest_loss:\n",
    "        print(f'epoch : {_ + 1}/{epochs}\\n---------------------------------------------------\\nLoss has decreased from {lowest_loss} to {loss}\\n accuracy : {acc}')\n",
    "        lowest_loss = loss\n",
    "        dense_1_weights = dense_1.weights.copy()\n",
    "        dense_1_biases = dense_1.biases.copy()\n",
    "        dense_2_weights = dense_2.weights.copy()\n",
    "        dense_2_biases = dense_2.biases.copy()\n",
    "        print('')\n",
    "    else:\n",
    "        dense_1.weights = dense_1_weights.copy()\n",
    "        dense_1.biases = dense_1_biases.copy()\n",
    "        dense_2.weights = dense_2_weights.copy()\n",
    "        dense_2.biases = dense_2_biases.copy()\n",
    "\n",
    "def plot_preds_1():\n",
    "    ymi, yma, xmi, xma = X.transpose()[1].min() - 0.1, X.transpose()[1].max() + 0.1,X.transpose()[0].min()- 0.1, X.transpose()[0].max() + 0.1\n",
    "    a = np.linspace(xmi,xma, 2000)\n",
    "    b = np.linspace(ymi,yma, 2000)\n",
    "    xx,yy = np.meshgrid(a,b)\n",
    "    data = np.c_[xx.ravel(),yy.ravel()]\n",
    "    dense_1.forward(data)\n",
    "    relu_1.forward(dense_1.output)\n",
    "    dense_2.forward(relu_1.output)\n",
    "    softmax_1.forward(dense_2.output)\n",
    "    preders = np.argmax(softmax_1.output, axis=1)\n",
    "    plt.figure()\n",
    "    plt.contourf(xx,yy, preders.reshape((2000,2000)),cmap=plt.cm.gist_rainbow, alpha = 0.3)\n",
    "    plt.scatter(X.transpose()[0],X.transpose()[1], c = y, cmap=plt.cm.gist_rainbow,alpha=1)\n",
    "    plt.title('Decision boundary learned by model')\n",
    "    plt.axis(False)\n",
    "    plt.show()\n",
    "plot_preds_1()"
   ]
  },
  {
   "cell_type": "markdown",
   "metadata": {},
   "source": [
    "# Optimizing Using gradients\n",
    "- Instead of randdomly adjusting let's adjust the parameters using the gradients of each parameter relative to the loss so we can get the loss function as close to a minimum as possible"
   ]
  },
  {
   "cell_type": "markdown",
   "metadata": {},
   "source": [
    "## FIrst layer"
   ]
  },
  {
   "cell_type": "markdown",
   "metadata": {},
   "source": [
    "### Using only one sample "
   ]
  },
  {
   "cell_type": "markdown",
   "metadata": {},
   "source": [
    "Let's calculate the gradients of the first layer only \n",
    "- In this situation we have 4 inputs and 3 neurons so the weights are an array of shape (4,3) transposed"
   ]
  },
  {
   "cell_type": "code",
   "execution_count": 59,
   "metadata": {},
   "outputs": [
    {
     "data": {
      "text/plain": [
       "array([[1., 1., 1.]])"
      ]
     },
     "execution_count": 59,
     "metadata": {},
     "output_type": "execute_result"
    }
   ],
   "source": [
    "# Let's assume the gradients received from th next layer to this 3 neurons is a vector of 1s\n",
    "dvalues = np.ones(shape=(1,3))\n",
    "dvalues"
   ]
  },
  {
   "cell_type": "code",
   "execution_count": 60,
   "metadata": {},
   "outputs": [],
   "source": [
    "weights = np.array(\n",
    "    object=[[ 0.2 , 0.8 , - 0.5 , 1 ],\n",
    "            [ 0.5 , - 0.91 , 0.26 , - 0.5 ],\n",
    "            [ - 0.26 , - 0.27 , 0.17 , 0.87 ]]\n",
    ").T"
   ]
  },
  {
   "cell_type": "code",
   "execution_count": 61,
   "metadata": {},
   "outputs": [
    {
     "name": "stdout",
     "output_type": "stream",
     "text": [
      "[ 0.44 -0.38 -0.07  1.37]\n"
     ]
    }
   ],
   "source": [
    "dx0 = sum (weights[ 0 ] * dvalues[ 0 ])\n",
    "dx1 = sum (weights[ 1 ] * dvalues[ 0 ])\n",
    "dx2 = sum (weights[ 2 ] * dvalues[ 0 ])\n",
    "dx3 = sum (weights[ 3 ] * dvalues[ 0 ])\n",
    "dinputs = np.array([dx0, dx1, dx2, dx3])\n",
    "print (dinputs)"
   ]
  },
  {
   "cell_type": "code",
   "execution_count": 62,
   "metadata": {},
   "outputs": [
    {
     "data": {
      "text/plain": [
       "array([[ 0.44, -0.38, -0.07,  1.37]], dtype=float32)"
      ]
     },
     "execution_count": 62,
     "metadata": {},
     "output_type": "execute_result"
    }
   ],
   "source": [
    "np.dot(dvalues, weights.T)"
   ]
  },
  {
   "cell_type": "markdown",
   "metadata": {},
   "source": [
    "### Using batches\n",
    "- for visualization perpuses we will only take a batch of 3"
   ]
  },
  {
   "cell_type": "code",
   "execution_count": 63,
   "metadata": {},
   "outputs": [],
   "source": [
    "dvalues = np.array([[ 1. , 1. , 1. ],\n",
    "[ 2. , 2. , 2. ],\n",
    "[ 3. , 3. , 3. ]])\n",
    "\n",
    "#each row represents a sample of data"
   ]
  },
  {
   "cell_type": "code",
   "execution_count": 64,
   "metadata": {},
   "outputs": [],
   "source": [
    "weights = np.array([[ 0.2 , 0.8 , - 0.5 , 1 ],\n",
    "[ 0.5 , - 0.91 , 0.26 , - 0.5 ],\n",
    "[ - 0.26 , - 0.27 , 0.17 , 0.87 ]]).T\n",
    "# weights are the same as before"
   ]
  },
  {
   "cell_type": "code",
   "execution_count": 65,
   "metadata": {},
   "outputs": [
    {
     "data": {
      "text/plain": [
       "array([[ 0.44, -0.38, -0.07,  1.37],\n",
       "       [ 0.88, -0.76, -0.14,  2.74],\n",
       "       [ 1.32, -1.14, -0.21,  4.11]], dtype=float32)"
      ]
     },
     "execution_count": 65,
     "metadata": {},
     "output_type": "execute_result"
    }
   ],
   "source": [
    "#Simply get the gradients of each input by the dot product\n",
    "dinputs = np.dot(dvalues, weights.T)\n",
    "dinputs"
   ]
  },
  {
   "cell_type": "markdown",
   "metadata": {},
   "source": [
    "to calculate the gradients of the weights we have to dot product the inputs transposed with the gradient values received"
   ]
  },
  {
   "cell_type": "code",
   "execution_count": 66,
   "metadata": {},
   "outputs": [],
   "source": [
    "inputs = np.array([[ 1 , 2 , 3 , 2.5 ],\n",
    "[ 2. , 5. , - 1. , 2 ],\n",
    "[ - 1.5 , 2.7 , 3.3 , - 0.8 ]])"
   ]
  },
  {
   "cell_type": "code",
   "execution_count": 67,
   "metadata": {},
   "outputs": [
    {
     "data": {
      "text/plain": [
       "array([[ 0.5,  0.5,  0.5],\n",
       "       [20.1, 20.1, 20.1],\n",
       "       [10.9, 10.9, 10.9],\n",
       "       [ 4.1,  4.1,  4.1]], dtype=float32)"
      ]
     },
     "execution_count": 67,
     "metadata": {},
     "output_type": "execute_result"
    }
   ],
   "source": [
    "dweights = np.dot(inputs.T, dvalues)\n",
    "dweights"
   ]
  },
  {
   "cell_type": "markdown",
   "metadata": {},
   "source": [
    "to calucalate the gradients of the biases as the derivative of a constant is 0 we just have to sum the value of each gradient passed for each sample "
   ]
  },
  {
   "cell_type": "code",
   "execution_count": 68,
   "metadata": {},
   "outputs": [],
   "source": [
    "biases = np.array([[ 2 , 3 , 0.5 ]])"
   ]
  },
  {
   "cell_type": "code",
   "execution_count": 69,
   "metadata": {},
   "outputs": [
    {
     "data": {
      "text/plain": [
       "array([[6., 6., 6.]])"
      ]
     },
     "execution_count": 69,
     "metadata": {},
     "output_type": "execute_result"
    }
   ],
   "source": [
    "dbiases = np.sum(dvalues, axis=0, keepdims=True)\n",
    "dbiases"
   ]
  },
  {
   "cell_type": "markdown",
   "metadata": {},
   "source": [
    "## Applying the derivative of Relu"
   ]
  },
  {
   "cell_type": "code",
   "execution_count": 70,
   "metadata": {},
   "outputs": [],
   "source": [
    "# Example layer output with 4 neurons and 3 samples\n",
    "z = np.array([[ 1 , 2 , - 3 , - 4 ],\n",
    "[ 2 , - 7 , - 1 , 3 ],\n",
    "[ - 1 , 2 , 5 , - 1 ]])\n",
    "dvalues = np.array([[ 1 , 2 , 3 , 4 ],\n",
    "[ 5 , 6 , 7 , 8 ],\n",
    "[ 9 , 10 , 11 , 12 ]])"
   ]
  },
  {
   "cell_type": "code",
   "execution_count": 71,
   "metadata": {},
   "outputs": [
    {
     "name": "stdout",
     "output_type": "stream",
     "text": [
      "[[1 1 0 0]\n",
      " [1 0 0 1]\n",
      " [0 1 1 0]]\n"
     ]
    }
   ],
   "source": [
    "drelu = (z>0).astype(np.int32)\n",
    "print(drelu)"
   ]
  },
  {
   "cell_type": "code",
   "execution_count": 72,
   "metadata": {},
   "outputs": [
    {
     "data": {
      "text/plain": [
       "array([[ 1,  2,  0,  0],\n",
       "       [ 5,  0,  0,  8],\n",
       "       [ 0, 10, 11,  0]])"
      ]
     },
     "execution_count": 72,
     "metadata": {},
     "output_type": "execute_result"
    }
   ],
   "source": [
    "#now we multtiply by the dvalues\n",
    "drelu*= dvalues\n",
    "drelu"
   ]
  },
  {
   "cell_type": "code",
   "execution_count": 73,
   "metadata": {},
   "outputs": [
    {
     "data": {
      "text/plain": [
       "array([[ 1,  2,  0,  0],\n",
       "       [ 5,  0,  0,  8],\n",
       "       [ 0, 10, 11,  0]])"
      ]
     },
     "execution_count": 73,
     "metadata": {},
     "output_type": "execute_result"
    }
   ],
   "source": [
    "# we can shorten this as \n",
    "z = np.array([[ 1 , 2 , - 3 , - 4 ],\n",
    "[ 2 , - 7 , - 1 , 3 ],\n",
    "[ - 1 , 2 , 5 , - 1 ]])\n",
    "dvalues = np.array([[ 1 , 2 , 3 , 4 ],\n",
    "[ 5 , 6 , 7 , 8 ],\n",
    "[ 9 , 10 , 11 , 12 ]])\n",
    "drelu = dvalues.copy()\n",
    "drelu[z<=0] =0 \n",
    "drelu"
   ]
  },
  {
   "cell_type": "markdown",
   "metadata": {},
   "source": [
    "## Doing one forward and backward pass for a whole layer"
   ]
  },
  {
   "cell_type": "code",
   "execution_count": 74,
   "metadata": {},
   "outputs": [],
   "source": [
    "dvalues = np.array([[ 1. , 1. , 1. ],\n",
    "[ 2. , 2. , 2. ],\n",
    "[ 3. , 3. , 3. ]])\n",
    "\n",
    "# We have 3 sets of inputs - samples\n",
    "\n",
    "inputs = np.array([[ 1 , 2 , 3 , 2.5 ],\n",
    "[ 2. , 5. , - 1. , 2 ],\n",
    "[ - 1.5 , 2.7 , 3.3 , - 0.8 ]])\n",
    "\n",
    "# We have 3 sets of weights - one set for each neuron\n",
    "# we have 4 inputs, thus 4 weights\n",
    "# recall that we keep weights transposed\n",
    "\n",
    "weights = np.array([[ 0.2 , 0.8 , - 0.5 , 1 ],\n",
    "[ 0.5 , - 0.91 , 0.26 , - 0.5 ],\n",
    "[ - 0.26 , - 0.27 , 0.17 , 0.87 ]]).T\n",
    "\n",
    "# One bias for each neuron\n",
    "# biases are the row vector with a shape (1, neurons)\n",
    "\n",
    "biases = np.array([[ 2 , 3 , 0.5 ]])"
   ]
  },
  {
   "cell_type": "code",
   "execution_count": 75,
   "metadata": {},
   "outputs": [],
   "source": [
    "# Forward pass\n",
    "\n",
    "layer_1_outputs = np.dot(inputs, weights) + biases\n",
    "relu_outputs = np.maximum(0, layer_1_outputs)\n",
    "\n",
    "# Calculating gradients\n",
    "\n",
    "drelu = dvalues.copy()\n",
    "drelu[layer_1_outputs <=0] = 0\n",
    "\n",
    "dinputs = np.dot(drelu, weights.T)\n",
    "\n",
    "dweights = np.dot(inputs.T, drelu)\n",
    "\n",
    "dbiases = np.sum(dbiases, axis=0, keepdims=True)"
   ]
  },
  {
   "cell_type": "code",
   "execution_count": 76,
   "metadata": {},
   "outputs": [
    {
     "data": {
      "text/plain": [
       "(array([[ 0.44, -0.38, -0.07,  1.37],\n",
       "        [-0.12,  1.06, -0.66,  3.74],\n",
       "        [ 1.32, -1.14, -0.21,  4.11]], dtype=float32),\n",
       " array([[ 0.5, -3.5,  0.5],\n",
       "        [20.1, 10.1, 20.1],\n",
       "        [10.9, 12.9, 10.9],\n",
       "        [ 4.1,  0.1,  4.1]], dtype=float32),\n",
       " array([[6., 6., 6.]]))"
      ]
     },
     "execution_count": 76,
     "metadata": {},
     "output_type": "execute_result"
    }
   ],
   "source": [
    "dinputs, dweights, dbiases"
   ]
  },
  {
   "cell_type": "code",
   "execution_count": 77,
   "metadata": {},
   "outputs": [
    {
     "data": {
      "text/plain": [
       "(array([[ 0.1995,  0.5035, -0.2605],\n",
       "        [ 0.7799, -0.9201, -0.2901],\n",
       "        [-0.5109,  0.2471,  0.1591],\n",
       "        [ 0.9959, -0.5001,  0.8659]]),\n",
       " array([[1.994, 2.994, 0.494]]))"
      ]
     },
     "execution_count": 77,
     "metadata": {},
     "output_type": "execute_result"
    }
   ],
   "source": [
    "# Back propagation step\n",
    "weights -= 0.001 * dweights\n",
    "biases -= 0.001 * dbiases\n",
    "weights, biases"
   ]
  },
  {
   "cell_type": "markdown",
   "metadata": {},
   "source": [
    "## Adding backward methods to existing Dense and Relu Classes"
   ]
  },
  {
   "cell_type": "code",
   "execution_count": 78,
   "metadata": {},
   "outputs": [],
   "source": [
    "# Dense Layer with backpropagation\n",
    "class Dense_Layer():\n",
    "\n",
    "    def __init__(self, n_inputs, n_neurons):\n",
    "        self.weights = 0.01 * np.random.randn(n_inputs, n_neurons)#Already transposed\n",
    "        self.biases = np.zeros(shape=(1, n_neurons))\n",
    "\n",
    "    def forward(self, inputs : np.ndarray):\n",
    "        self.output = np.dot(inputs, self.weights) + self.biases\n",
    "        # Saving the inputs for backpropagation using\n",
    "        self.inputs = inputs\n",
    "\n",
    "    # Backward propagation method\n",
    "    def backward(self, dvalues):\n",
    "        self.dweights = np.dot(self.inputs.T, dvalues)\n",
    "        \n",
    "        self.dbiases = np.sum(dvalues, axis=0, keepdims=True)\n",
    "\n",
    "        self.dinputs = np.dot(dvalues, self.weights.T)\n",
    "    "
   ]
  },
  {
   "cell_type": "code",
   "execution_count": 79,
   "metadata": {},
   "outputs": [],
   "source": [
    "# ReLU activation with backpropagation\n",
    "class ReLU_Activation():\n",
    "\n",
    "    def forward(self, inputs):\n",
    "        self.output = np.maximum(0, inputs)\n",
    "        #Save the inputs for backpropagation\n",
    "        self.inputs = inputs\n",
    "\n",
    "    def backward(self, dvalues):\n",
    "        self.dinputs = dvalues.copy()\n",
    "        self.dinputs[self.inputs <= 0] = 0"
   ]
  },
  {
   "cell_type": "markdown",
   "metadata": {},
   "source": [
    "## Gradient of Categorical crossentropy"
   ]
  },
  {
   "cell_type": "code",
   "execution_count": 80,
   "metadata": {},
   "outputs": [],
   "source": [
    "class CategoricalCrossentropy(Loss):\n",
    "\n",
    "    def forward(self, preds, truth):\n",
    "\n",
    "        n_samples = len(truth)\n",
    "\n",
    "        clipped_preds = np.clip(preds, 1e-7, 1-1e-7)\n",
    "        \n",
    "        #if sparsely encoded\n",
    "        if len(truth.shape) == 1:\n",
    "            confidences = clipped_preds[range(n_samples), truth]\n",
    "            truth = np.eye(len(preds[0]))[truth]\n",
    "        \n",
    "        #if one_hot encoded\n",
    "        elif len(truth.shape) == 2:\n",
    "            confidences = np.sum(clipped_preds * truth, axis=1)\n",
    "\n",
    "        #save the predictions and truths for backpropagation\n",
    "        self.preds = preds\n",
    "        self.truth = truth\n",
    "\n",
    "        return -np.log(confidences)\n",
    "    \n",
    "    #Adding backward propagation\n",
    "    def backward(self, truth, preds):\n",
    "\n",
    "        n_samples = len(truth)\n",
    "        \n",
    "        if len(truth.shape) == 1:\n",
    "            truth = np.eye(len(preds[0]))[truth]\n",
    "        self.dinputs = (-truth/preds)/n_samples"
   ]
  },
  {
   "cell_type": "markdown",
   "metadata": {},
   "source": [
    "## Gradient of Softmax Activation"
   ]
  },
  {
   "cell_type": "code",
   "execution_count": 81,
   "metadata": {},
   "outputs": [],
   "source": [
    "class Softmax_Activation():\n",
    "\n",
    "    def forward(self, inputs):\n",
    "\n",
    "        self.inputs = inputs\n",
    "\n",
    "        exps = np.exp(inputs-np.max(inputs, axis=-1, keepdims=True))\n",
    "        self.output = exps/ np.sum(exps, axis=-1, keepdims=True)\n",
    "    \n",
    "    def backward(self, dvalues):\n",
    "        self.dinputs = np.empty_like(dvalues) \n",
    "        for i , (output, dvalue) in enumerate(zip(self.output, dvalues)):\n",
    "            output = np.expand_dims(output, axis=-1)\n",
    "            jac = np.diagflat(output) - np.dot(output, output.T)\n",
    "\n",
    "            self.dinputs[i] = np.dot(jac,dvalue)"
   ]
  },
  {
   "cell_type": "markdown",
   "metadata": {},
   "source": [
    "## Common class for softmax and categorical crossentropy"
   ]
  },
  {
   "cell_type": "markdown",
   "metadata": {},
   "source": [
    "As both these layers mostly come together let's create a combined function \n",
    "> Derivative of both loss and softmax is `y^hat - y` so let's optimize using our knowledge on one_hot encoders"
   ]
  },
  {
   "cell_type": "code",
   "execution_count": 82,
   "metadata": {},
   "outputs": [],
   "source": [
    "class CategoricalCrossentropyWithSoftmax():\n",
    "\n",
    "    def __init(self):\n",
    "        self.activation = Softmax_Activation()\n",
    "        self.loss = CategoricalCrossentropy()\n",
    "\n",
    "    def forward(self, inputs, truth):\n",
    "\n",
    "        self.activation.forward(inputs)\n",
    "        self.output = self.activation.output\n",
    "\n",
    "        return self.loss.calculate(self.output, truth) \n",
    "    \n",
    "    def backward(self, preds, truth):\n",
    "\n",
    "        samples = preds.shape[0]\n",
    "\n",
    "        if len(truth.shape) == 2:\n",
    "            truth = np.argmax(truth, axis = -1)\n",
    "\n",
    "        self.dinputs = preds.copy()\n",
    "\n",
    "        self.dinputs[range(samples), truth] -= 1\n",
    "\n",
    "        self.dinputs /= samples"
   ]
  },
  {
   "cell_type": "markdown",
   "metadata": {},
   "source": [
    "### Testing if combined function outputs are same as separated\n",
    "- No need to check forward propagation as steps are same and easy"
   ]
  },
  {
   "cell_type": "markdown",
   "metadata": {},
   "source": [
    "#### Sample truths and predictions"
   ]
  },
  {
   "cell_type": "code",
   "execution_count": 83,
   "metadata": {},
   "outputs": [],
   "source": [
    "softmax_outputs = np.array([[ 0.7 , 0.1 , 0.2 ],\n",
    "[ 0.1 , 0.5 , 0.4 ],\n",
    "[ 0.02 , 0.9 , 0.08 ]])\n",
    "\n",
    "class_targets = np.array([ 0 , 1 , 1 ])\n"
   ]
  },
  {
   "cell_type": "markdown",
   "metadata": {},
   "source": [
    "#### Defining layer"
   ]
  },
  {
   "cell_type": "code",
   "execution_count": 84,
   "metadata": {},
   "outputs": [],
   "source": [
    "test_softmax = Softmax_Activation()\n",
    "test_loss = CategoricalCrossentropy()\n",
    "test_loss_softmax = CategoricalCrossentropyWithSoftmax()"
   ]
  },
  {
   "cell_type": "markdown",
   "metadata": {},
   "source": [
    "#### Performing Backpropagation"
   ]
  },
  {
   "cell_type": "code",
   "execution_count": 85,
   "metadata": {},
   "outputs": [
    {
     "name": "stdout",
     "output_type": "stream",
     "text": [
      "Final Grads Separated:  [[-0.09999999  0.03333334  0.06666667]\n",
      " [ 0.03333334 -0.16666667  0.13333334]\n",
      " [ 0.00666667 -0.03333333  0.02666667]]\n",
      "Final Grads Combined:  [[-0.1         0.03333333  0.06666667]\n",
      " [ 0.03333333 -0.16666667  0.13333333]\n",
      " [ 0.00666667 -0.03333333  0.02666667]]\n",
      "[[ True  True  True]\n",
      " [ True  True  True]\n",
      " [ True  True  True]]\n"
     ]
    }
   ],
   "source": [
    "#Separated Layers\n",
    "test_loss.backward(class_targets, softmax_outputs)\n",
    "test_loss_grads = test_loss.dinputs\n",
    "test_softmax.output = softmax_outputs\n",
    "test_softmax.backward(test_loss_grads)\n",
    "test_softmax_grads = test_softmax.dinputs\n",
    "print('Final Grads Separated: ', test_softmax_grads)\n",
    "\n",
    "#Combined Layers\n",
    "test_loss_softmax.backward(softmax_outputs, class_targets)\n",
    "test_softmax_loss_grads = test_loss_softmax.dinputs\n",
    "print('Final Grads Combined: ', test_softmax_loss_grads)\n",
    "\n",
    "print(np.isclose(test_softmax_grads, test_softmax_loss_grads))"
   ]
  },
  {
   "cell_type": "markdown",
   "metadata": {},
   "source": [
    "## Comparison\n",
    "- The main reason we used the combined method is as it only does a simple subtraction it is much more faster then computing using separate methods"
   ]
  },
  {
   "cell_type": "code",
   "execution_count": 86,
   "metadata": {},
   "outputs": [],
   "source": [
    "from timeit import timeit"
   ]
  },
  {
   "cell_type": "code",
   "execution_count": 110,
   "metadata": {},
   "outputs": [
    {
     "name": "stdout",
     "output_type": "stream",
     "text": [
      "6.849888548400597\n"
     ]
    }
   ],
   "source": [
    "def sep():\n",
    "    test_softmax = Softmax_Activation()\n",
    "    test_loss = CategoricalCrossentropy()\n",
    "    test_loss.backward(class_targets, softmax_outputs)\n",
    "    test_softmax.output = softmax_outputs\n",
    "    test_softmax.backward(test_loss.dinputs)\n",
    "    test_softmax_grads = test_softmax.dinputs\n",
    "\n",
    "def com():\n",
    "    test_loss_softmax = CategoricalCrossentropyWithSoftmax()\n",
    "    test_loss_softmax.backward(softmax_outputs, class_targets)\n",
    "    test_softmax_loss_grads = test_loss_softmax.dinputs\n",
    "\n",
    "septime = timeit(lambda : sep(), number=10000)\n",
    "comtime = timeit(lambda : com(), number=10000)\n",
    "print(septime/comtime)"
   ]
  },
  {
   "cell_type": "code",
   "execution_count": null,
   "metadata": {},
   "outputs": [
    {
     "data": {
      "text/plain": [
       "10.289682547129901"
      ]
     },
     "execution_count": 108,
     "metadata": {},
     "output_type": "execute_result"
    }
   ],
   "source": []
  }
 ],
 "metadata": {
  "kernelspec": {
   "display_name": "tfbootcamp2",
   "language": "python",
   "name": "python3"
  },
  "language_info": {
   "codemirror_mode": {
    "name": "ipython",
    "version": 3
   },
   "file_extension": ".py",
   "mimetype": "text/x-python",
   "name": "python",
   "nbconvert_exporter": "python",
   "pygments_lexer": "ipython3",
   "version": "3.9.18"
  }
 },
 "nbformat": 4,
 "nbformat_minor": 2
}
